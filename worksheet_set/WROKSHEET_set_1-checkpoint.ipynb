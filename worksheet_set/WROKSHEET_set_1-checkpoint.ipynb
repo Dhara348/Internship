{
 "cells": [
  {
   "cell_type": "code",
   "execution_count": null,
   "metadata": {},
   "outputs": [],
   "source": [
    "# Write a python program to find the factorial of a number. \n",
    "num=int(input(\"Enter number=>\"))\n",
    "factorial=1\n",
    "if num<0:\n",
    "    print(\"factorial does not exist for negative numbers.\")\n",
    "elif num==0:\n",
    "    print(\"Factorial for 0 is 1.\")\n",
    "else:\n",
    "    for i in range(1,num+1):\n",
    "        factorial=factorial*i\n",
    "    print(\"The factorial of \",num,\"is\",factorial)"
   ]
  },
  {
   "cell_type": "code",
   "execution_count": null,
   "metadata": {},
   "outputs": [],
   "source": [
    "# Write a python program to find whether a number is prime or composite. \n",
    "num=int(input(\"Enter number here=>\"))\n",
    "if num>1:\n",
    "    for i in range(2,num):\n",
    "        if(num%i)==0:\n",
    "            print(\"This number \",num,\"is not a prime number\")\n",
    "        break\n",
    "        else:\n",
    "            print(\"This number \",num,\"is a prime number\")\n",
    "elif num==0 or 1:\n",
    "        print(num, \"is not a prime and not a composite\")\n",
    "else:\n",
    "        print(num,\"is a composite number\")"
   ]
  },
  {
   "cell_type": "code",
   "execution_count": 3,
   "metadata": {},
   "outputs": [
    {
     "name": "stdout",
     "output_type": "stream",
     "text": [
      "Enter string=>aba\n",
      "yes\n"
     ]
    }
   ],
   "source": [
    "#Write a python program to check whether a given string is palindrome or not. \n",
    "def isPalindrome(str):\n",
    "    for i in range(0,int(len(str)/2)):\n",
    "        if str[i]!=str[len(str)-i-1]:\n",
    "            return False\n",
    "    return True\n",
    "s2=input(\"Enter string=>\")\n",
    "ans=isPalindrome(s2)\n",
    "if (ans):\n",
    "    print(\"yes\")\n",
    "else:\n",
    "    print(\"No\")"
   ]
  },
  {
   "cell_type": "code",
   "execution_count": 4,
   "metadata": {},
   "outputs": [
    {
     "name": "stdout",
     "output_type": "stream",
     "text": [
      "Enter side 1=3\n",
      "Enter side 2=4\n",
      "Biggest side :- 5.0\n"
     ]
    }
   ],
   "source": [
    "#Write a Python program to get the third side of right-angled triangle from two given sides. \n",
    "a=int(input(\"Enter side 1=\"))\n",
    "b=int(input(\"Enter side 2=\"))\n",
    "c=(a**2 + b**2 )**0.5 \n",
    "print(\"Biggest side :-\" , c)"
   ]
  },
  {
   "cell_type": "code",
   "execution_count": null,
   "metadata": {},
   "outputs": [],
   "source": [
    "#Write a python program to print the frequency of each of the characters present in a given string. \n",
    "s1=input(\"enter string:\")\n",
    "char=input(\"enter character to find frequency:\")\n",
    "for i in range(len(s1)):\n",
    "    if(s1[i]==char):\n",
    "        count=count+1\n",
    "print(\"The frequency of the\",char,\"in the string is:\",count)"
   ]
  },
  {
   "cell_type": "code",
   "execution_count": null,
   "metadata": {},
   "outputs": [],
   "source": []
  }
 ],
 "metadata": {
  "kernelspec": {
   "display_name": "Python 3",
   "language": "python",
   "name": "python3"
  },
  "language_info": {
   "codemirror_mode": {
    "name": "ipython",
    "version": 3
   },
   "file_extension": ".py",
   "mimetype": "text/x-python",
   "name": "python",
   "nbconvert_exporter": "python",
   "pygments_lexer": "ipython3",
   "version": "3.8.5"
  }
 },
 "nbformat": 4,
 "nbformat_minor": 4
}
