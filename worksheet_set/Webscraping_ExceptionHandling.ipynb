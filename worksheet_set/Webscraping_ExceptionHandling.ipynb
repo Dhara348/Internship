{
 "cells": [
  {
   "cell_type": "markdown",
   "metadata": {},
   "source": [
    "# Web scraping Handling Exception\n",
    "### Some commonly occouring exceptions in Selenium\n",
    "1. NoSuchElementException\n",
    "2. StateElementReferenceException\n",
    "3. ElementNotInteractableException\n",
    "4. SessionNotCreatedException\n",
    "5. TimeoutException"
   ]
  },
  {
   "cell_type": "markdown",
   "metadata": {},
   "source": [
    "## 1. NoSuchElementException "
   ]
  },
  {
   "cell_type": "code",
   "execution_count": 1,
   "metadata": {},
   "outputs": [],
   "source": [
    "from selenium import webdriver\n",
    "import time\n",
    "from selenium.common.exceptions import NoSuchElementException"
   ]
  },
  {
   "cell_type": "code",
   "execution_count": 2,
   "metadata": {},
   "outputs": [],
   "source": [
    "import warnings\n",
    "warnings.filterwarnings('ignore')"
   ]
  },
  {
   "cell_type": "code",
   "execution_count": 3,
   "metadata": {},
   "outputs": [
    {
     "ename": "NoSuchElementException",
     "evalue": "Message: no such element: Unable to locate element: {\"method\":\"css selector\",\"selector\":\"[id=\"hoo-ha-hoo\"]\"}\n  (Session info: chrome=96.0.4664.110)\nStacktrace:\nBacktrace:\n\tOrdinal0 [0x00F16903+2517251]\n\tOrdinal0 [0x00EAF8E1+2095329]\n\tOrdinal0 [0x00DB2848+1058888]\n\tOrdinal0 [0x00DDD448+1233992]\n\tOrdinal0 [0x00DDD63B+1234491]\n\tOrdinal0 [0x00E07812+1406994]\n\tOrdinal0 [0x00DF650A+1336586]\n\tOrdinal0 [0x00E05BBF+1399743]\n\tOrdinal0 [0x00DF639B+1336219]\n\tOrdinal0 [0x00DD27A7+1189799]\n\tOrdinal0 [0x00DD3609+1193481]\n\tGetHandleVerifier [0x010A5904+1577972]\n\tGetHandleVerifier [0x01150B97+2279047]\n\tGetHandleVerifier [0x00FA6D09+534521]\n\tGetHandleVerifier [0x00FA5DB9+530601]\n\tOrdinal0 [0x00EB4FF9+2117625]\n\tOrdinal0 [0x00EB98A8+2136232]\n\tOrdinal0 [0x00EB99E2+2136546]\n\tOrdinal0 [0x00EC3541+2176321]\n\tBaseThreadInitThunk [0x759BFA29+25]\n\tRtlGetAppContainerNamedObjectPath [0x77637A9E+286]\n\tRtlGetAppContainerNamedObjectPath [0x77637A6E+238]\n",
     "output_type": "error",
     "traceback": [
      "\u001b[1;31m---------------------------------------------------------------------------\u001b[0m",
      "\u001b[1;31mNoSuchElementException\u001b[0m                    Traceback (most recent call last)",
      "\u001b[1;32m<ipython-input-3-a4d818e4a53e>\u001b[0m in \u001b[0;36m<module>\u001b[1;34m\u001b[0m\n\u001b[0;32m      2\u001b[0m \u001b[0mdriver\u001b[0m\u001b[1;33m.\u001b[0m\u001b[0mget\u001b[0m\u001b[1;33m(\u001b[0m\u001b[1;34m\"https://www.google.com/\"\u001b[0m\u001b[1;33m)\u001b[0m\u001b[1;33m\u001b[0m\u001b[1;33m\u001b[0m\u001b[0m\n\u001b[0;32m      3\u001b[0m \u001b[0mtime\u001b[0m\u001b[1;33m.\u001b[0m\u001b[0msleep\u001b[0m\u001b[1;33m(\u001b[0m\u001b[1;36m5\u001b[0m\u001b[1;33m)\u001b[0m\u001b[1;33m\u001b[0m\u001b[1;33m\u001b[0m\u001b[0m\n\u001b[1;32m----> 4\u001b[1;33m \u001b[0melement\u001b[0m\u001b[1;33m=\u001b[0m\u001b[0mdriver\u001b[0m\u001b[1;33m.\u001b[0m\u001b[0mfind_element_by_id\u001b[0m\u001b[1;33m(\u001b[0m\u001b[1;34m\"hoo-ha-hoo\"\u001b[0m\u001b[1;33m)\u001b[0m  \u001b[1;31m#entering of element which is not present in web page\u001b[0m\u001b[1;33m\u001b[0m\u001b[1;33m\u001b[0m\u001b[0m\n\u001b[0m\u001b[0;32m      5\u001b[0m \u001b[0melement\u001b[0m\u001b[1;33m.\u001b[0m\u001b[0mtext\u001b[0m\u001b[1;33m\u001b[0m\u001b[1;33m\u001b[0m\u001b[0m\n",
      "\u001b[1;32m~\\AppData\\Roaming\\Python\\Python38\\site-packages\\selenium\\webdriver\\remote\\webdriver.py\u001b[0m in \u001b[0;36mfind_element_by_id\u001b[1;34m(self, id_)\u001b[0m\n\u001b[0;32m    470\u001b[0m             \u001b[0mstacklevel\u001b[0m\u001b[1;33m=\u001b[0m\u001b[1;36m2\u001b[0m\u001b[1;33m,\u001b[0m\u001b[1;33m\u001b[0m\u001b[1;33m\u001b[0m\u001b[0m\n\u001b[0;32m    471\u001b[0m         )\n\u001b[1;32m--> 472\u001b[1;33m         \u001b[1;32mreturn\u001b[0m \u001b[0mself\u001b[0m\u001b[1;33m.\u001b[0m\u001b[0mfind_element\u001b[0m\u001b[1;33m(\u001b[0m\u001b[0mby\u001b[0m\u001b[1;33m=\u001b[0m\u001b[0mBy\u001b[0m\u001b[1;33m.\u001b[0m\u001b[0mID\u001b[0m\u001b[1;33m,\u001b[0m \u001b[0mvalue\u001b[0m\u001b[1;33m=\u001b[0m\u001b[0mid_\u001b[0m\u001b[1;33m)\u001b[0m\u001b[1;33m\u001b[0m\u001b[1;33m\u001b[0m\u001b[0m\n\u001b[0m\u001b[0;32m    473\u001b[0m \u001b[1;33m\u001b[0m\u001b[0m\n\u001b[0;32m    474\u001b[0m     \u001b[1;32mdef\u001b[0m \u001b[0mfind_elements_by_id\u001b[0m\u001b[1;33m(\u001b[0m\u001b[0mself\u001b[0m\u001b[1;33m,\u001b[0m \u001b[0mid_\u001b[0m\u001b[1;33m)\u001b[0m \u001b[1;33m->\u001b[0m \u001b[0mWebElement\u001b[0m\u001b[1;33m:\u001b[0m\u001b[1;33m\u001b[0m\u001b[1;33m\u001b[0m\u001b[0m\n",
      "\u001b[1;32m~\\AppData\\Roaming\\Python\\Python38\\site-packages\\selenium\\webdriver\\remote\\webdriver.py\u001b[0m in \u001b[0;36mfind_element\u001b[1;34m(self, by, value)\u001b[0m\n\u001b[0;32m   1242\u001b[0m             \u001b[0mvalue\u001b[0m \u001b[1;33m=\u001b[0m \u001b[1;34m'[name=\"%s\"]'\u001b[0m \u001b[1;33m%\u001b[0m \u001b[0mvalue\u001b[0m\u001b[1;33m\u001b[0m\u001b[1;33m\u001b[0m\u001b[0m\n\u001b[0;32m   1243\u001b[0m \u001b[1;33m\u001b[0m\u001b[0m\n\u001b[1;32m-> 1244\u001b[1;33m         return self.execute(Command.FIND_ELEMENT, {\n\u001b[0m\u001b[0;32m   1245\u001b[0m             \u001b[1;34m'using'\u001b[0m\u001b[1;33m:\u001b[0m \u001b[0mby\u001b[0m\u001b[1;33m,\u001b[0m\u001b[1;33m\u001b[0m\u001b[1;33m\u001b[0m\u001b[0m\n\u001b[0;32m   1246\u001b[0m             'value': value})['value']\n",
      "\u001b[1;32m~\\AppData\\Roaming\\Python\\Python38\\site-packages\\selenium\\webdriver\\remote\\webdriver.py\u001b[0m in \u001b[0;36mexecute\u001b[1;34m(self, driver_command, params)\u001b[0m\n\u001b[0;32m    422\u001b[0m         \u001b[0mresponse\u001b[0m \u001b[1;33m=\u001b[0m \u001b[0mself\u001b[0m\u001b[1;33m.\u001b[0m\u001b[0mcommand_executor\u001b[0m\u001b[1;33m.\u001b[0m\u001b[0mexecute\u001b[0m\u001b[1;33m(\u001b[0m\u001b[0mdriver_command\u001b[0m\u001b[1;33m,\u001b[0m \u001b[0mparams\u001b[0m\u001b[1;33m)\u001b[0m\u001b[1;33m\u001b[0m\u001b[1;33m\u001b[0m\u001b[0m\n\u001b[0;32m    423\u001b[0m         \u001b[1;32mif\u001b[0m \u001b[0mresponse\u001b[0m\u001b[1;33m:\u001b[0m\u001b[1;33m\u001b[0m\u001b[1;33m\u001b[0m\u001b[0m\n\u001b[1;32m--> 424\u001b[1;33m             \u001b[0mself\u001b[0m\u001b[1;33m.\u001b[0m\u001b[0merror_handler\u001b[0m\u001b[1;33m.\u001b[0m\u001b[0mcheck_response\u001b[0m\u001b[1;33m(\u001b[0m\u001b[0mresponse\u001b[0m\u001b[1;33m)\u001b[0m\u001b[1;33m\u001b[0m\u001b[1;33m\u001b[0m\u001b[0m\n\u001b[0m\u001b[0;32m    425\u001b[0m             response['value'] = self._unwrap_value(\n\u001b[0;32m    426\u001b[0m                 response.get('value', None))\n",
      "\u001b[1;32m~\\AppData\\Roaming\\Python\\Python38\\site-packages\\selenium\\webdriver\\remote\\errorhandler.py\u001b[0m in \u001b[0;36mcheck_response\u001b[1;34m(self, response)\u001b[0m\n\u001b[0;32m    245\u001b[0m                 \u001b[0malert_text\u001b[0m \u001b[1;33m=\u001b[0m \u001b[0mvalue\u001b[0m\u001b[1;33m[\u001b[0m\u001b[1;34m'alert'\u001b[0m\u001b[1;33m]\u001b[0m\u001b[1;33m.\u001b[0m\u001b[0mget\u001b[0m\u001b[1;33m(\u001b[0m\u001b[1;34m'text'\u001b[0m\u001b[1;33m)\u001b[0m\u001b[1;33m\u001b[0m\u001b[1;33m\u001b[0m\u001b[0m\n\u001b[0;32m    246\u001b[0m             \u001b[1;32mraise\u001b[0m \u001b[0mexception_class\u001b[0m\u001b[1;33m(\u001b[0m\u001b[0mmessage\u001b[0m\u001b[1;33m,\u001b[0m \u001b[0mscreen\u001b[0m\u001b[1;33m,\u001b[0m \u001b[0mstacktrace\u001b[0m\u001b[1;33m,\u001b[0m \u001b[0malert_text\u001b[0m\u001b[1;33m)\u001b[0m  \u001b[1;31m# type: ignore[call-arg]  # mypy is not smart enough here\u001b[0m\u001b[1;33m\u001b[0m\u001b[1;33m\u001b[0m\u001b[0m\n\u001b[1;32m--> 247\u001b[1;33m         \u001b[1;32mraise\u001b[0m \u001b[0mexception_class\u001b[0m\u001b[1;33m(\u001b[0m\u001b[0mmessage\u001b[0m\u001b[1;33m,\u001b[0m \u001b[0mscreen\u001b[0m\u001b[1;33m,\u001b[0m \u001b[0mstacktrace\u001b[0m\u001b[1;33m)\u001b[0m\u001b[1;33m\u001b[0m\u001b[1;33m\u001b[0m\u001b[0m\n\u001b[0m\u001b[0;32m    248\u001b[0m \u001b[1;33m\u001b[0m\u001b[0m\n\u001b[0;32m    249\u001b[0m     \u001b[1;32mdef\u001b[0m \u001b[0m_value_or_default\u001b[0m\u001b[1;33m(\u001b[0m\u001b[0mself\u001b[0m\u001b[1;33m,\u001b[0m \u001b[0mobj\u001b[0m\u001b[1;33m:\u001b[0m \u001b[0mMapping\u001b[0m\u001b[1;33m[\u001b[0m\u001b[0m_KT\u001b[0m\u001b[1;33m,\u001b[0m \u001b[0m_VT\u001b[0m\u001b[1;33m]\u001b[0m\u001b[1;33m,\u001b[0m \u001b[0mkey\u001b[0m\u001b[1;33m:\u001b[0m \u001b[0m_KT\u001b[0m\u001b[1;33m,\u001b[0m \u001b[0mdefault\u001b[0m\u001b[1;33m:\u001b[0m \u001b[0m_VT\u001b[0m\u001b[1;33m)\u001b[0m \u001b[1;33m->\u001b[0m \u001b[0m_VT\u001b[0m\u001b[1;33m:\u001b[0m\u001b[1;33m\u001b[0m\u001b[1;33m\u001b[0m\u001b[0m\n",
      "\u001b[1;31mNoSuchElementException\u001b[0m: Message: no such element: Unable to locate element: {\"method\":\"css selector\",\"selector\":\"[id=\"hoo-ha-hoo\"]\"}\n  (Session info: chrome=96.0.4664.110)\nStacktrace:\nBacktrace:\n\tOrdinal0 [0x00F16903+2517251]\n\tOrdinal0 [0x00EAF8E1+2095329]\n\tOrdinal0 [0x00DB2848+1058888]\n\tOrdinal0 [0x00DDD448+1233992]\n\tOrdinal0 [0x00DDD63B+1234491]\n\tOrdinal0 [0x00E07812+1406994]\n\tOrdinal0 [0x00DF650A+1336586]\n\tOrdinal0 [0x00E05BBF+1399743]\n\tOrdinal0 [0x00DF639B+1336219]\n\tOrdinal0 [0x00DD27A7+1189799]\n\tOrdinal0 [0x00DD3609+1193481]\n\tGetHandleVerifier [0x010A5904+1577972]\n\tGetHandleVerifier [0x01150B97+2279047]\n\tGetHandleVerifier [0x00FA6D09+534521]\n\tGetHandleVerifier [0x00FA5DB9+530601]\n\tOrdinal0 [0x00EB4FF9+2117625]\n\tOrdinal0 [0x00EB98A8+2136232]\n\tOrdinal0 [0x00EB99E2+2136546]\n\tOrdinal0 [0x00EC3541+2176321]\n\tBaseThreadInitThunk [0x759BFA29+25]\n\tRtlGetAppContainerNamedObjectPath [0x77637A9E+286]\n\tRtlGetAppContainerNamedObjectPath [0x77637A6E+238]\n"
     ]
    }
   ],
   "source": [
    "driver=webdriver.Chrome(r\"C:/Users/Lenovo/Downloads/chromedriver_win32/chromedriver.exe\")\n",
    "driver.get(\"https://www.google.com/\")\n",
    "time.sleep(5)\n",
    "element=driver.find_element_by_id(\"hoo-ha-hoo\")  #entering of element which is not present in web page\n",
    "element.text"
   ]
  },
  {
   "cell_type": "code",
   "execution_count": 4,
   "metadata": {},
   "outputs": [
    {
     "name": "stdout",
     "output_type": "stream",
     "text": [
      "Exception Raised :  Message: no such element: Unable to locate element: {\"method\":\"css selector\",\"selector\":\"[id=\"Hoo-Haa-Ho\"]\"}\n",
      "  (Session info: chrome=96.0.4664.110)\n",
      "Stacktrace:\n",
      "Backtrace:\n",
      "\tOrdinal0 [0x00F16903+2517251]\n",
      "\tOrdinal0 [0x00EAF8E1+2095329]\n",
      "\tOrdinal0 [0x00DB2848+1058888]\n",
      "\tOrdinal0 [0x00DDD448+1233992]\n",
      "\tOrdinal0 [0x00DDD63B+1234491]\n",
      "\tOrdinal0 [0x00E07812+1406994]\n",
      "\tOrdinal0 [0x00DF650A+1336586]\n",
      "\tOrdinal0 [0x00E05BBF+1399743]\n",
      "\tOrdinal0 [0x00DF639B+1336219]\n",
      "\tOrdinal0 [0x00DD27A7+1189799]\n",
      "\tOrdinal0 [0x00DD3609+1193481]\n",
      "\tGetHandleVerifier [0x010A5904+1577972]\n",
      "\tGetHandleVerifier [0x01150B97+2279047]\n",
      "\tGetHandleVerifier [0x00FA6D09+534521]\n",
      "\tGetHandleVerifier [0x00FA5DB9+530601]\n",
      "\tOrdinal0 [0x00EB4FF9+2117625]\n",
      "\tOrdinal0 [0x00EB98A8+2136232]\n",
      "\tOrdinal0 [0x00EB99E2+2136546]\n",
      "\tOrdinal0 [0x00EC3541+2176321]\n",
      "\tBaseThreadInitThunk [0x759BFA29+25]\n",
      "\tRtlGetAppContainerNamedObjectPath [0x77637A9E+286]\n",
      "\tRtlGetAppContainerNamedObjectPath [0x77637A6E+238]\n",
      "\n",
      "GmailImages\n",
      "Sign in\n"
     ]
    }
   ],
   "source": [
    "try:\n",
    "    element=driver.find_element_by_id(\"Hoo-Haa-Ho\")\n",
    "    print(element.text)\n",
    "except NoSuchElementException as e:\n",
    "    print(\"Exception Raised : \",e)\n",
    "    element=driver.find_element_by_id(\"gb\")\n",
    "    print(element.text)"
   ]
  },
  {
   "cell_type": "code",
   "execution_count": 5,
   "metadata": {},
   "outputs": [],
   "source": [
    "driver.close()"
   ]
  },
  {
   "cell_type": "code",
   "execution_count": 6,
   "metadata": {},
   "outputs": [],
   "source": [
    "time.sleep(2)"
   ]
  },
  {
   "cell_type": "code",
   "execution_count": 7,
   "metadata": {},
   "outputs": [],
   "source": [
    "# importing required classes\n",
    "from selenium import webdriver\n",
    "from selenium.webdriver.support.ui import WebDriverWait\n",
    "from selenium.webdriver.support import expected_conditions as EC\n",
    "from selenium.webdriver.common.by import By"
   ]
  },
  {
   "cell_type": "code",
   "execution_count": 9,
   "metadata": {},
   "outputs": [
    {
     "data": {
      "text/plain": [
       "<module 'selenium.webdriver.support.expected_conditions' from 'C:\\\\Users\\\\Lenovo\\\\AppData\\\\Roaming\\\\Python\\\\Python38\\\\site-packages\\\\selenium\\\\webdriver\\\\support\\\\expected_conditions.py'>"
      ]
     },
     "execution_count": 9,
     "metadata": {},
     "output_type": "execute_result"
    }
   ],
   "source": [
    "EC"
   ]
  },
  {
   "cell_type": "code",
   "execution_count": 15,
   "metadata": {},
   "outputs": [
    {
     "data": {
      "text/plain": [
       "<selenium.webdriver.remote.webelement.WebElement (session=\"28e56b672d597370c7b9d294b8f23936\", element=\"47353f5e-91b5-406c-9d84-084bc861c949\")>"
      ]
     },
     "execution_count": 15,
     "metadata": {},
     "output_type": "execute_result"
    }
   ],
   "source": [
    "driver=webdriver.Chrome(r\"C:/Users/Lenovo/Downloads/chromedriver_win32/chromedriver.exe\")\n",
    "driver.get(\"https://www.amazon.in/\")\n",
    "delay=10 # seconds\n",
    "WebDriverWait(driver,delay).until(EC.presence_of_element_located((By.CLASS_NAME,'nav_last')))\n",
    "element=driver.find_element_by_xpath(\"//li[@class='nav_last']\")\n",
    "element"
   ]
  },
  {
   "cell_type": "code",
   "execution_count": 16,
   "metadata": {},
   "outputs": [],
   "source": [
    "driver.close()"
   ]
  },
  {
   "cell_type": "markdown",
   "metadata": {},
   "source": [
    "## 2. StaleElementReferenceException"
   ]
  },
  {
   "cell_type": "code",
   "execution_count": 17,
   "metadata": {},
   "outputs": [],
   "source": [
    "from selenium.common.exceptions import StaleElementReferenceException"
   ]
  },
  {
   "cell_type": "code",
   "execution_count": 19,
   "metadata": {},
   "outputs": [
    {
     "name": "stdout",
     "output_type": "stream",
     "text": [
      "Exception Raised : Message: stale element reference: element is not attached to the page document\n",
      "  (Session info: chrome=96.0.4664.110)\n",
      "Stacktrace:\n",
      "Backtrace:\n",
      "\tOrdinal0 [0x00F16903+2517251]\n",
      "\tOrdinal0 [0x00EAF8E1+2095329]\n",
      "\tOrdinal0 [0x00DB2848+1058888]\n",
      "\tOrdinal0 [0x00DB4F44+1068868]\n",
      "\tOrdinal0 [0x00DB4E0E+1068558]\n",
      "\tOrdinal0 [0x00DB5070+1069168]\n",
      "\tOrdinal0 [0x00DDEC4C+1240140]\n",
      "\tOrdinal0 [0x00DD3F63+1195875]\n",
      "\tOrdinal0 [0x00DF64D3+1336531]\n",
      "\tOrdinal0 [0x00DD3A36+1194550]\n",
      "\tOrdinal0 [0x00DF65BA+1336762]\n",
      "\tOrdinal0 [0x00E05BBF+1399743]\n",
      "\tOrdinal0 [0x00DF639B+1336219]\n",
      "\tOrdinal0 [0x00DD27A7+1189799]\n",
      "\tOrdinal0 [0x00DD3609+1193481]\n",
      "\tGetHandleVerifier [0x010A5904+1577972]\n",
      "\tGetHandleVerifier [0x01150B97+2279047]\n",
      "\tGetHandleVerifier [0x00FA6D09+534521]\n",
      "\tGetHandleVerifier [0x00FA5DB9+530601]\n",
      "\tOrdinal0 [0x00EB4FF9+2117625]\n",
      "\tOrdinal0 [0x00EB98A8+2136232]\n",
      "\tOrdinal0 [0x00EB99E2+2136546]\n",
      "\tOrdinal0 [0x00EC3541+2176321]\n",
      "\tBaseThreadInitThunk [0x759BFA29+25]\n",
      "\tRtlGetAppContainerNamedObjectPath [0x77637A9E+286]\n",
      "\tRtlGetAppContainerNamedObjectPath [0x77637A6E+238]\n",
      "\n"
     ]
    }
   ],
   "source": [
    "driver=webdriver.Chrome(r\"C:/Users/Lenovo/Downloads/chromedriver_win32/chromedriver.exe\")\n",
    "driver.get(\"https://www.naukri.com/data-scientist-jobs-in-delhi?k=data%20scientist&l=delhi\")\n",
    "try:\n",
    "    salary=driver.find_element_by_id(\"chk-0-3 Lakhs-ctcFilter-\")\n",
    "    time.sleep(3)\n",
    "    driver.get(driver.current_url)\n",
    "    salary.click()\n",
    "except StaleElementReferenceException as e:\n",
    "    print(\"Exception Raised :\",e)"
   ]
  },
  {
   "cell_type": "code",
   "execution_count": 22,
   "metadata": {},
   "outputs": [],
   "source": [
    "driver.close()"
   ]
  },
  {
   "cell_type": "markdown",
   "metadata": {},
   "source": [
    "## 3. ElementNotInteractableException"
   ]
  },
  {
   "cell_type": "code",
   "execution_count": 20,
   "metadata": {},
   "outputs": [],
   "source": [
    "from selenium.common.exceptions import ElementNotInteractableException"
   ]
  },
  {
   "cell_type": "code",
   "execution_count": 27,
   "metadata": {},
   "outputs": [
    {
     "name": "stdout",
     "output_type": "stream",
     "text": [
      "Exception Raised: Message: element not interactable\n",
      "  (Session info: chrome=96.0.4664.110)\n",
      "Stacktrace:\n",
      "Backtrace:\n",
      "\tOrdinal0 [0x00F16903+2517251]\n",
      "\tOrdinal0 [0x00EAF8E1+2095329]\n",
      "\tOrdinal0 [0x00DB2710+1058576]\n",
      "\tOrdinal0 [0x00DDE324+1237796]\n",
      "\tOrdinal0 [0x00DD4037+1196087]\n",
      "\tOrdinal0 [0x00DF64D3+1336531]\n",
      "\tOrdinal0 [0x00DD3A36+1194550]\n",
      "\tOrdinal0 [0x00DF65BA+1336762]\n",
      "\tOrdinal0 [0x00E05BBF+1399743]\n",
      "\tOrdinal0 [0x00DF639B+1336219]\n",
      "\tOrdinal0 [0x00DD27A7+1189799]\n",
      "\tOrdinal0 [0x00DD3609+1193481]\n",
      "\tGetHandleVerifier [0x010A5904+1577972]\n",
      "\tGetHandleVerifier [0x01150B97+2279047]\n",
      "\tGetHandleVerifier [0x00FA6D09+534521]\n",
      "\tGetHandleVerifier [0x00FA5DB9+530601]\n",
      "\tOrdinal0 [0x00EB4FF9+2117625]\n",
      "\tOrdinal0 [0x00EB98A8+2136232]\n",
      "\tOrdinal0 [0x00EB99E2+2136546]\n",
      "\tOrdinal0 [0x00EC3541+2176321]\n",
      "\tBaseThreadInitThunk [0x759BFA29+25]\n",
      "\tRtlGetAppContainerNamedObjectPath [0x77637A9E+286]\n",
      "\tRtlGetAppContainerNamedObjectPath [0x77637A6E+238]\n",
      "\n"
     ]
    }
   ],
   "source": [
    "driver=webdriver.Chrome(r\"C:/Users/Lenovo/Downloads/chromedriver_win32/chromedriver.exe\")\n",
    "driver.get(\"https://www.amazon.in/\")\n",
    "time.sleep(5)\n",
    "try:\n",
    "    element=driver.find_element_by_xpath(\"//i[@class='a-icon a-icon-previous-rounded']/span\")\n",
    "    element.click()\n",
    "except ElementNotInteractableException as e:\n",
    "    print(\"Exception Raised:\",e)"
   ]
  },
  {
   "cell_type": "markdown",
   "metadata": {},
   "source": [
    "## 4. SessionNotCreatedException"
   ]
  },
  {
   "cell_type": "code",
   "execution_count": 28,
   "metadata": {},
   "outputs": [],
   "source": [
    "from selenium.common.exceptions import SessionNotCreatedException"
   ]
  },
  {
   "cell_type": "code",
   "execution_count": 35,
   "metadata": {},
   "outputs": [],
   "source": [
    "try:\n",
    "    driver=webdriver.Chrome(r\"C:/Users/Lenovo/Downloads/chromedriver_win32/chromedriver.exe\")\n",
    "    driver.get(\"https://www.google.com/\")\n",
    "except SessionNotCreatedException as e:\n",
    "    print(\"Exception Raised : \",e)\n",
    "    driver=webdriver.Chrome(r\"C://chromedriver.exe\")\n",
    "    driver.get(\"https://www.google.com/\")\n"
   ]
  },
  {
   "cell_type": "markdown",
   "metadata": {},
   "source": [
    "## 5. TimeOutException"
   ]
  },
  {
   "cell_type": "code",
   "execution_count": 36,
   "metadata": {},
   "outputs": [],
   "source": [
    "from selenium.common.exceptions import TimeoutException"
   ]
  },
  {
   "cell_type": "code",
   "execution_count": 37,
   "metadata": {},
   "outputs": [
    {
     "name": "stdout",
     "output_type": "stream",
     "text": [
      "Exception Raised :  Message: \n",
      "Stacktrace:\n",
      "Backtrace:\n",
      "\tOrdinal0 [0x00F16903+2517251]\n",
      "\tOrdinal0 [0x00EAF8E1+2095329]\n",
      "\tOrdinal0 [0x00DB2848+1058888]\n",
      "\tOrdinal0 [0x00DDD448+1233992]\n",
      "\tOrdinal0 [0x00DDD63B+1234491]\n",
      "\tOrdinal0 [0x00E07812+1406994]\n",
      "\tOrdinal0 [0x00DF650A+1336586]\n",
      "\tOrdinal0 [0x00E05BBF+1399743]\n",
      "\tOrdinal0 [0x00DF639B+1336219]\n",
      "\tOrdinal0 [0x00DD27A7+1189799]\n",
      "\tOrdinal0 [0x00DD3609+1193481]\n",
      "\tGetHandleVerifier [0x010A5904+1577972]\n",
      "\tGetHandleVerifier [0x01150B97+2279047]\n",
      "\tGetHandleVerifier [0x00FA6D09+534521]\n",
      "\tGetHandleVerifier [0x00FA5DB9+530601]\n",
      "\tOrdinal0 [0x00EB4FF9+2117625]\n",
      "\tOrdinal0 [0x00EB98A8+2136232]\n",
      "\tOrdinal0 [0x00EB99E2+2136546]\n",
      "\tOrdinal0 [0x00EC3541+2176321]\n",
      "\tBaseThreadInitThunk [0x759BFA29+25]\n",
      "\tRtlGetAppContainerNamedObjectPath [0x77637A9E+286]\n",
      "\tRtlGetAppContainerNamedObjectPath [0x77637A6E+238]\n",
      "\n"
     ]
    }
   ],
   "source": [
    "driver=webdriver.Chrome(r\"C:/Users/Lenovo/Downloads/chromedriver_win32/chromedriver.exe\")\n",
    "delay=5\n",
    "try:\n",
    "    driver.get(\"https://www.amazon.in/\")\n",
    "    WebDriverWait(driver,delay).until(EC.presence_of_element_located((By.CLASS_NAME,'a-section a-spacing-mini')))\n",
    "    element=driver.find_element_by_xpath(\"//li[@class='a-section a-spacing-mini']\")\n",
    "    print(element)\n",
    "except TimeoutException as e:\n",
    "    print(\"Exception Raised : \",e)"
   ]
  },
  {
   "cell_type": "code",
   "execution_count": null,
   "metadata": {},
   "outputs": [],
   "source": []
  }
 ],
 "metadata": {
  "kernelspec": {
   "display_name": "Python 3",
   "language": "python",
   "name": "python3"
  },
  "language_info": {
   "codemirror_mode": {
    "name": "ipython",
    "version": 3
   },
   "file_extension": ".py",
   "mimetype": "text/x-python",
   "name": "python",
   "nbconvert_exporter": "python",
   "pygments_lexer": "ipython3",
   "version": "3.8.5"
  }
 },
 "nbformat": 4,
 "nbformat_minor": 4
}
