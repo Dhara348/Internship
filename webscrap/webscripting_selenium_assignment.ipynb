{
 "cells": [
  {
   "cell_type": "markdown",
   "metadata": {},
   "source": [
    "## Q1: Write a python program to scrape data for “Data Analyst” Job position in “Bangalore” location. \n",
    "You have to scrape the job-title, job-location, company_name, experience_required. You have to scrape first 10\n",
    "jobs data.\n",
    "This task will be done in following steps:\n",
    "1. First get the webpage https://www.naukri.com/\n",
    "2. Enter “Data Analyst” in “Skill, Designations, Companies” field and enter “Bangalore” in “enter the\n",
    "location” field.\n",
    "3. Then click the search button.\n",
    "4. Then scrape the data for the first 10 jobs results you get.\n",
    "5. Finally create a dataframe of the scraped data."
   ]
  },
  {
   "cell_type": "code",
   "execution_count": 85,
   "metadata": {},
   "outputs": [],
   "source": [
    "import selenium\n",
    "import pandas as pd\n",
    "from selenium import webdriver"
   ]
  },
  {
   "cell_type": "code",
   "execution_count": 86,
   "metadata": {},
   "outputs": [
    {
     "name": "stderr",
     "output_type": "stream",
     "text": [
      "<ipython-input-86-da08593c35f4>:1: DeprecationWarning: executable_path has been deprecated, please pass in a Service object\n",
      "  driver=webdriver.Chrome(r\"C:/Users/Lenovo/Downloads/chromedriver_win32/chromedriver.exe\")\n"
     ]
    }
   ],
   "source": [
    "driver=webdriver.Chrome(r\"C:/Users/Lenovo/Downloads/chromedriver_win32/chromedriver.exe\")"
   ]
  },
  {
   "cell_type": "code",
   "execution_count": 3,
   "metadata": {},
   "outputs": [],
   "source": [
    "driver.get('http://www.naukri.com/')"
   ]
  },
  {
   "cell_type": "code",
   "execution_count": 4,
   "metadata": {},
   "outputs": [
    {
     "name": "stderr",
     "output_type": "stream",
     "text": [
      "<ipython-input-4-a342457f8275>:2: DeprecationWarning: find_element_by_* commands are deprecated. Please use find_element() instead\n",
      "  search_job=driver.find_element_by_id('qsb-keyword-sugg')\n",
      "<ipython-input-4-a342457f8275>:4: DeprecationWarning: find_element_by_* commands are deprecated. Please use find_element() instead\n",
      "  search_loc=driver.find_element_by_xpath(\"//input[@id='qsb-location-sugg']\")\n"
     ]
    }
   ],
   "source": [
    "#finding element for job search bar as \"Data Analyst\" in \"Bangalore\"\n",
    "search_job=driver.find_element_by_id('qsb-keyword-sugg')\n",
    "search_job.send_keys(\"Data Analyst\")\n",
    "search_loc=driver.find_element_by_xpath(\"//input[@id='qsb-location-sugg']\")\n",
    "search_loc.send_keys(\"Bangalore\")"
   ]
  },
  {
   "cell_type": "code",
   "execution_count": 5,
   "metadata": {},
   "outputs": [
    {
     "name": "stderr",
     "output_type": "stream",
     "text": [
      "<ipython-input-5-8db898a03ada>:1: DeprecationWarning: find_element_by_* commands are deprecated. Please use find_element() instead\n",
      "  search_btn=driver.find_element_by_xpath(\"//div[@class='search-btn']/button\")\n"
     ]
    }
   ],
   "source": [
    "search_btn=driver.find_element_by_xpath(\"//div[@class='search-btn']/button\")\n",
    "search_btn.click()"
   ]
  },
  {
   "cell_type": "code",
   "execution_count": 6,
   "metadata": {},
   "outputs": [],
   "source": [
    "url=\"https://www.naukri.com/data-analyst-jobs-in-bangalore?k=data%20analyst&l=bangalore\""
   ]
  },
  {
   "cell_type": "code",
   "execution_count": 7,
   "metadata": {},
   "outputs": [],
   "source": [
    "#lets open the webpage through our web driver\n",
    "driver.get(url)"
   ]
  },
  {
   "cell_type": "markdown",
   "metadata": {},
   "source": [
    "1. job title\n",
    "2. company name\n",
    "3. locations list\n",
    "4. experience list"
   ]
  },
  {
   "cell_type": "code",
   "execution_count": 9,
   "metadata": {},
   "outputs": [],
   "source": [
    "# solet's extract all the tags having the job_titles\n",
    "job_title=[]\n",
    "company_names=[]\n",
    "location_list=[]\n",
    "experience_list=[]"
   ]
  },
  {
   "cell_type": "code",
   "execution_count": 10,
   "metadata": {},
   "outputs": [
    {
     "name": "stderr",
     "output_type": "stream",
     "text": [
      "<ipython-input-10-ecd30c295849>:1: DeprecationWarning: find_elements_by_* commands are deprecated. Please use find_elements() instead\n",
      "  title_tags=driver.find_elements_by_xpath(\"//a[@class='title fw500 ellipsis']\")\n",
      "<ipython-input-10-ecd30c295849>:2: DeprecationWarning: find_elements_by_* commands are deprecated. Please use find_elements() instead\n",
      "  compnies_tags=driver.find_elements_by_xpath(\"//a[@class='subTitle ellipsis fleft']\")\n",
      "<ipython-input-10-ecd30c295849>:3: DeprecationWarning: find_elements_by_* commands are deprecated. Please use find_elements() instead\n",
      "  experience_tags=driver.find_elements_by_xpath(\"//li[@class='fleft grey-text br2 placeHolderLi experience']/span[1]\")\n",
      "<ipython-input-10-ecd30c295849>:4: DeprecationWarning: find_elements_by_* commands are deprecated. Please use find_elements() instead\n",
      "  location_tags=driver.find_elements_by_xpath(\"//li[@class='fleft grey-text br2 placeHolderLi location']\")\n"
     ]
    }
   ],
   "source": [
    "title_tags=driver.find_elements_by_xpath(\"//a[@class='title fw500 ellipsis']\")\n",
    "compnies_tags=driver.find_elements_by_xpath(\"//a[@class='subTitle ellipsis fleft']\")\n",
    "experience_tags=driver.find_elements_by_xpath(\"//li[@class='fleft grey-text br2 placeHolderLi experience']/span[1]\")\n",
    "location_tags=driver.find_elements_by_xpath(\"//li[@class='fleft grey-text br2 placeHolderLi location']\")"
   ]
  },
  {
   "cell_type": "code",
   "execution_count": 11,
   "metadata": {},
   "outputs": [],
   "source": [
    "# Now the text of the job title is inside the tags extracted above\n",
    "# so we will run a loop to iterate over the tags extracted above and extracted the detail\n",
    "for i in title_tags:\n",
    "    title=i.text\n",
    "    job_title.append(title)\n",
    "for i in compnies_tags:\n",
    "    company_name=i.text\n",
    "    company_names.append(company_name)\n",
    "\n",
    "for i in experience_tags:\n",
    "    experience=i.text\n",
    "    experience_list.append(experience)\n",
    "\n",
    "for i in location_tags:\n",
    "    location=i.text\n",
    "    location_list.append(location)\n"
   ]
  },
  {
   "cell_type": "code",
   "execution_count": 12,
   "metadata": {},
   "outputs": [
    {
     "name": "stdout",
     "output_type": "stream",
     "text": [
      "20 20 20 20\n"
     ]
    }
   ],
   "source": [
    "print(len(job_title),len(company_names),len(experience_list),len(location_list))"
   ]
  },
  {
   "cell_type": "code",
   "execution_count": 13,
   "metadata": {},
   "outputs": [],
   "source": [
    "jobs=pd.DataFrame({})\n",
    "jobs['title']=job_title\n",
    "jobs['company']=company_names\n",
    "jobs['experience_required']=experience_list\n",
    "jobs['location']=location_list"
   ]
  },
  {
   "cell_type": "code",
   "execution_count": 15,
   "metadata": {},
   "outputs": [
    {
     "data": {
      "text/html": [
       "<div>\n",
       "<style scoped>\n",
       "    .dataframe tbody tr th:only-of-type {\n",
       "        vertical-align: middle;\n",
       "    }\n",
       "\n",
       "    .dataframe tbody tr th {\n",
       "        vertical-align: top;\n",
       "    }\n",
       "\n",
       "    .dataframe thead th {\n",
       "        text-align: right;\n",
       "    }\n",
       "</style>\n",
       "<table border=\"1\" class=\"dataframe\">\n",
       "  <thead>\n",
       "    <tr style=\"text-align: right;\">\n",
       "      <th></th>\n",
       "      <th>title</th>\n",
       "      <th>company</th>\n",
       "      <th>experience_required</th>\n",
       "      <th>location</th>\n",
       "    </tr>\n",
       "  </thead>\n",
       "  <tbody>\n",
       "    <tr>\n",
       "      <th>0</th>\n",
       "      <td>Hiring -Data Analyst, Business Analyst, MIS An...</td>\n",
       "      <td>Flipkart</td>\n",
       "      <td>1-6 Yrs</td>\n",
       "      <td>Bangalore/Bengaluru</td>\n",
       "    </tr>\n",
       "    <tr>\n",
       "      <th>1</th>\n",
       "      <td>Business Analyst/ Data Analyst- Capital Market...</td>\n",
       "      <td>Genpact</td>\n",
       "      <td>7-12 Yrs</td>\n",
       "      <td>Pune, Bangalore/Bengaluru</td>\n",
       "    </tr>\n",
       "    <tr>\n",
       "      <th>2</th>\n",
       "      <td>Senior Data Analyst III</td>\n",
       "      <td>Flipkart</td>\n",
       "      <td>2-4 Yrs</td>\n",
       "      <td>Bengaluru/Bangalore</td>\n",
       "    </tr>\n",
       "    <tr>\n",
       "      <th>3</th>\n",
       "      <td>Data Analyst</td>\n",
       "      <td>GlaxoSmithKline Pharmaceuticals Limited</td>\n",
       "      <td>3-8 Yrs</td>\n",
       "      <td>Bangalore/Bengaluru</td>\n",
       "    </tr>\n",
       "    <tr>\n",
       "      <th>4</th>\n",
       "      <td>Data Analyst</td>\n",
       "      <td>Schneider Electric</td>\n",
       "      <td>2-5 Yrs</td>\n",
       "      <td>Bangalore/Bengaluru</td>\n",
       "    </tr>\n",
       "    <tr>\n",
       "      <th>5</th>\n",
       "      <td>Senior Data Analyst</td>\n",
       "      <td>Flipkart</td>\n",
       "      <td>3-7 Yrs</td>\n",
       "      <td>Bangalore/Bengaluru</td>\n",
       "    </tr>\n",
       "    <tr>\n",
       "      <th>6</th>\n",
       "      <td>Senior Data Analyst for HANA Platform</td>\n",
       "      <td>Intel</td>\n",
       "      <td>5-10 Yrs</td>\n",
       "      <td>Bangalore/Bengaluru</td>\n",
       "    </tr>\n",
       "    <tr>\n",
       "      <th>7</th>\n",
       "      <td>Assistant/deputy Manager - Geo-spatial Data An...</td>\n",
       "      <td>Maruti Suzuki India</td>\n",
       "      <td>3-5 Yrs</td>\n",
       "      <td>Gurgaon/Gurugram, bangalore</td>\n",
       "    </tr>\n",
       "    <tr>\n",
       "      <th>8</th>\n",
       "      <td>Data Analyst</td>\n",
       "      <td>Slice</td>\n",
       "      <td>0-2 Yrs</td>\n",
       "      <td>Bangalore/Bengaluru</td>\n",
       "    </tr>\n",
       "    <tr>\n",
       "      <th>9</th>\n",
       "      <td>DG - Business Analyst - Data Visualization &amp; A...</td>\n",
       "      <td>ExecBoardinAsia</td>\n",
       "      <td>5-10 Yrs</td>\n",
       "      <td>Bangalore/Bengaluru</td>\n",
       "    </tr>\n",
       "  </tbody>\n",
       "</table>\n",
       "</div>"
      ],
      "text/plain": [
       "                                               title  \\\n",
       "0  Hiring -Data Analyst, Business Analyst, MIS An...   \n",
       "1  Business Analyst/ Data Analyst- Capital Market...   \n",
       "2                            Senior Data Analyst III   \n",
       "3                                       Data Analyst   \n",
       "4                                       Data Analyst   \n",
       "5                                Senior Data Analyst   \n",
       "6              Senior Data Analyst for HANA Platform   \n",
       "7  Assistant/deputy Manager - Geo-spatial Data An...   \n",
       "8                                       Data Analyst   \n",
       "9  DG - Business Analyst - Data Visualization & A...   \n",
       "\n",
       "                                   company experience_required  \\\n",
       "0                                 Flipkart             1-6 Yrs   \n",
       "1                                  Genpact            7-12 Yrs   \n",
       "2                                 Flipkart             2-4 Yrs   \n",
       "3  GlaxoSmithKline Pharmaceuticals Limited             3-8 Yrs   \n",
       "4                       Schneider Electric             2-5 Yrs   \n",
       "5                                 Flipkart             3-7 Yrs   \n",
       "6                                    Intel            5-10 Yrs   \n",
       "7                      Maruti Suzuki India             3-5 Yrs   \n",
       "8                                    Slice             0-2 Yrs   \n",
       "9                          ExecBoardinAsia            5-10 Yrs   \n",
       "\n",
       "                      location  \n",
       "0          Bangalore/Bengaluru  \n",
       "1    Pune, Bangalore/Bengaluru  \n",
       "2          Bengaluru/Bangalore  \n",
       "3          Bangalore/Bengaluru  \n",
       "4          Bangalore/Bengaluru  \n",
       "5          Bangalore/Bengaluru  \n",
       "6          Bangalore/Bengaluru  \n",
       "7  Gurgaon/Gurugram, bangalore  \n",
       "8          Bangalore/Bengaluru  \n",
       "9          Bangalore/Bengaluru  "
      ]
     },
     "execution_count": 15,
     "metadata": {},
     "output_type": "execute_result"
    }
   ],
   "source": [
    "jobs[0:10]"
   ]
  },
  {
   "cell_type": "markdown",
   "metadata": {},
   "source": [
    "## Q2: Write a python program to scrape data for “Data Scientist” Job position in “Bangalore” location. You have to scrape the job-title, job-location, company_name. You have to scrape first 10 jobs data.\n",
    "This task will be done in following steps:\n",
    "1. First get the webpage https://www.naukri.com/\n",
    "2. Enter “Data Scientist” in “Skill, Designations, Companies” field and enter “Bangalore” in “enter the location” field.\n",
    "3. Then click the search button.\n",
    "4. Then scrape the data for the first 10 jobs results you get.\n",
    "5. Finally create a dataframe of the scraped data."
   ]
  },
  {
   "cell_type": "code",
   "execution_count": 18,
   "metadata": {},
   "outputs": [],
   "source": [
    "driver.get('http://www.naukri.com/')"
   ]
  },
  {
   "cell_type": "code",
   "execution_count": 19,
   "metadata": {},
   "outputs": [
    {
     "name": "stderr",
     "output_type": "stream",
     "text": [
      "<ipython-input-19-c39bbb6f2938>:2: DeprecationWarning: find_element_by_* commands are deprecated. Please use find_element() instead\n",
      "  search_job=driver.find_element_by_id('qsb-keyword-sugg')\n",
      "<ipython-input-19-c39bbb6f2938>:4: DeprecationWarning: find_element_by_* commands are deprecated. Please use find_element() instead\n",
      "  search_loc=driver.find_element_by_xpath(\"//input[@id='qsb-location-sugg']\")\n"
     ]
    }
   ],
   "source": [
    "#finding element for job search bar as \"Data Scientist\" in \"Bangalore\"\n",
    "search_job=driver.find_element_by_id('qsb-keyword-sugg')\n",
    "search_job.send_keys(\"Data Scientist\")\n",
    "search_loc=driver.find_element_by_xpath(\"//input[@id='qsb-location-sugg']\")\n",
    "search_loc.send_keys(\"Bangalore\")"
   ]
  },
  {
   "cell_type": "code",
   "execution_count": 20,
   "metadata": {},
   "outputs": [
    {
     "name": "stderr",
     "output_type": "stream",
     "text": [
      "<ipython-input-20-8db898a03ada>:1: DeprecationWarning: find_element_by_* commands are deprecated. Please use find_element() instead\n",
      "  search_btn=driver.find_element_by_xpath(\"//div[@class='search-btn']/button\")\n"
     ]
    }
   ],
   "source": [
    "search_btn=driver.find_element_by_xpath(\"//div[@class='search-btn']/button\")\n",
    "search_btn.click()"
   ]
  },
  {
   "cell_type": "code",
   "execution_count": 21,
   "metadata": {},
   "outputs": [],
   "source": [
    "url=\"https://www.naukri.com/data-scientist-jobs-in-bangalore?k=data%20scientist&l=bangalore\""
   ]
  },
  {
   "cell_type": "code",
   "execution_count": 23,
   "metadata": {},
   "outputs": [],
   "source": [
    "driver.get(url)"
   ]
  },
  {
   "cell_type": "code",
   "execution_count": 24,
   "metadata": {},
   "outputs": [],
   "source": [
    "# solet's extract all the tags having the job_titles\n",
    "job_title1=[]\n",
    "company_names1=[]\n",
    "location_list1=[]\n",
    "experience_list1=[]"
   ]
  },
  {
   "cell_type": "code",
   "execution_count": 25,
   "metadata": {},
   "outputs": [
    {
     "name": "stderr",
     "output_type": "stream",
     "text": [
      "<ipython-input-25-ad6ec97e2533>:1: DeprecationWarning: find_elements_by_* commands are deprecated. Please use find_elements() instead\n",
      "  title_tags1=driver.find_elements_by_xpath(\"//a[@class='title fw500 ellipsis']\")\n",
      "<ipython-input-25-ad6ec97e2533>:2: DeprecationWarning: find_elements_by_* commands are deprecated. Please use find_elements() instead\n",
      "  compnies_tags1=driver.find_elements_by_xpath(\"//a[@class='subTitle ellipsis fleft']\")\n",
      "<ipython-input-25-ad6ec97e2533>:3: DeprecationWarning: find_elements_by_* commands are deprecated. Please use find_elements() instead\n",
      "  experience_tags1=driver.find_elements_by_xpath(\"//li[@class='fleft grey-text br2 placeHolderLi experience']/span[1]\")\n",
      "<ipython-input-25-ad6ec97e2533>:4: DeprecationWarning: find_elements_by_* commands are deprecated. Please use find_elements() instead\n",
      "  location_tags1=driver.find_elements_by_xpath(\"//li[@class='fleft grey-text br2 placeHolderLi location']\")\n"
     ]
    }
   ],
   "source": [
    "title_tags1=driver.find_elements_by_xpath(\"//a[@class='title fw500 ellipsis']\")\n",
    "compnies_tags1=driver.find_elements_by_xpath(\"//a[@class='subTitle ellipsis fleft']\")\n",
    "experience_tags1=driver.find_elements_by_xpath(\"//li[@class='fleft grey-text br2 placeHolderLi experience']/span[1]\")\n",
    "location_tags1=driver.find_elements_by_xpath(\"//li[@class='fleft grey-text br2 placeHolderLi location']\")"
   ]
  },
  {
   "cell_type": "code",
   "execution_count": 26,
   "metadata": {},
   "outputs": [],
   "source": [
    "# Now the text of the job title is inside the tags extracted above\n",
    "# so we will run a loop to iterate over the tags extracted above and extracted the detail\n",
    "for i in title_tags1:\n",
    "    titlee=i.text\n",
    "    job_title1.append(titlee)\n",
    "for i in compnies_tags1:\n",
    "    company_namee=i.text\n",
    "    company_names1.append(company_namee)\n",
    "\n",
    "for i in experience_tags1:\n",
    "    experiencee=i.text\n",
    "    experience_list1.append(experiencee)\n",
    "\n",
    "for i in location_tags1:\n",
    "    locationn=i.text\n",
    "    location_list1.append(locationn)\n"
   ]
  },
  {
   "cell_type": "code",
   "execution_count": 27,
   "metadata": {},
   "outputs": [],
   "source": [
    "jobss=pd.DataFrame({})\n",
    "jobss['title']=job_title1\n",
    "jobss['company']=company_names1\n",
    "jobss['experience_required']=experience_list1\n",
    "jobss['location']=location_list1"
   ]
  },
  {
   "cell_type": "code",
   "execution_count": 28,
   "metadata": {},
   "outputs": [
    {
     "data": {
      "text/html": [
       "<div>\n",
       "<style scoped>\n",
       "    .dataframe tbody tr th:only-of-type {\n",
       "        vertical-align: middle;\n",
       "    }\n",
       "\n",
       "    .dataframe tbody tr th {\n",
       "        vertical-align: top;\n",
       "    }\n",
       "\n",
       "    .dataframe thead th {\n",
       "        text-align: right;\n",
       "    }\n",
       "</style>\n",
       "<table border=\"1\" class=\"dataframe\">\n",
       "  <thead>\n",
       "    <tr style=\"text-align: right;\">\n",
       "      <th></th>\n",
       "      <th>title</th>\n",
       "      <th>company</th>\n",
       "      <th>experience_required</th>\n",
       "      <th>location</th>\n",
       "    </tr>\n",
       "  </thead>\n",
       "  <tbody>\n",
       "    <tr>\n",
       "      <th>0</th>\n",
       "      <td>Data Scientist</td>\n",
       "      <td>Snaphunt</td>\n",
       "      <td>0-2 Yrs</td>\n",
       "      <td>Bangalore/Bengaluru</td>\n",
       "    </tr>\n",
       "    <tr>\n",
       "      <th>1</th>\n",
       "      <td>Deputy Manager - Data Scientist</td>\n",
       "      <td>HDFC LIFE INSURANCE COMPANY LIMITED</td>\n",
       "      <td>3-7 Yrs</td>\n",
       "      <td>Bangalore/Bengaluru</td>\n",
       "    </tr>\n",
       "    <tr>\n",
       "      <th>2</th>\n",
       "      <td>Data Scientist: Advanced Analytics</td>\n",
       "      <td>IBM India Pvt. Limited</td>\n",
       "      <td>5-7 Yrs</td>\n",
       "      <td>Bengaluru/Bangalore</td>\n",
       "    </tr>\n",
       "    <tr>\n",
       "      <th>3</th>\n",
       "      <td>Tcs Hiring For Azure ML Data Scientist</td>\n",
       "      <td>Tata Consultancy Services Ltd.</td>\n",
       "      <td>3-8 Yrs</td>\n",
       "      <td>Hyderabad/Secunderabad, Bangalore/Bengaluru, M...</td>\n",
       "    </tr>\n",
       "    <tr>\n",
       "      <th>4</th>\n",
       "      <td>Data Science - Senior Data Scientist</td>\n",
       "      <td>Paytm</td>\n",
       "      <td>2-4 Yrs</td>\n",
       "      <td>Noida, Bangalore/Bengaluru</td>\n",
       "    </tr>\n",
       "    <tr>\n",
       "      <th>5</th>\n",
       "      <td>Senior Data Scientist</td>\n",
       "      <td>Ally-Executive</td>\n",
       "      <td>5-8 Yrs</td>\n",
       "      <td>Bangalore/Bengaluru</td>\n",
       "    </tr>\n",
       "    <tr>\n",
       "      <th>6</th>\n",
       "      <td>Senior Data Scientist</td>\n",
       "      <td>Visa</td>\n",
       "      <td>4-9 Yrs</td>\n",
       "      <td>Bangalore/Bengaluru</td>\n",
       "    </tr>\n",
       "    <tr>\n",
       "      <th>7</th>\n",
       "      <td>Lead/Senior Data Scientist (NLP)</td>\n",
       "      <td>Samya.AI A FRACTAL Entity</td>\n",
       "      <td>3-8 Yrs</td>\n",
       "      <td>Bangalore/Bengaluru\\n(WFH during Covid)</td>\n",
       "    </tr>\n",
       "    <tr>\n",
       "      <th>8</th>\n",
       "      <td>Data scientist</td>\n",
       "      <td>Superior Group</td>\n",
       "      <td>5-10 Yrs</td>\n",
       "      <td>Bangalore/Bengaluru</td>\n",
       "    </tr>\n",
       "    <tr>\n",
       "      <th>9</th>\n",
       "      <td>Data Scientist</td>\n",
       "      <td>Thoucentric Technology Pvt ltd</td>\n",
       "      <td>1-6 Yrs</td>\n",
       "      <td>Bangalore/Bengaluru</td>\n",
       "    </tr>\n",
       "  </tbody>\n",
       "</table>\n",
       "</div>"
      ],
      "text/plain": [
       "                                    title  \\\n",
       "0                          Data Scientist   \n",
       "1         Deputy Manager - Data Scientist   \n",
       "2      Data Scientist: Advanced Analytics   \n",
       "3  Tcs Hiring For Azure ML Data Scientist   \n",
       "4    Data Science - Senior Data Scientist   \n",
       "5                   Senior Data Scientist   \n",
       "6                   Senior Data Scientist   \n",
       "7        Lead/Senior Data Scientist (NLP)   \n",
       "8                          Data scientist   \n",
       "9                          Data Scientist   \n",
       "\n",
       "                               company experience_required  \\\n",
       "0                             Snaphunt             0-2 Yrs   \n",
       "1  HDFC LIFE INSURANCE COMPANY LIMITED             3-7 Yrs   \n",
       "2               IBM India Pvt. Limited             5-7 Yrs   \n",
       "3       Tata Consultancy Services Ltd.             3-8 Yrs   \n",
       "4                                Paytm             2-4 Yrs   \n",
       "5                       Ally-Executive             5-8 Yrs   \n",
       "6                                 Visa             4-9 Yrs   \n",
       "7            Samya.AI A FRACTAL Entity             3-8 Yrs   \n",
       "8                       Superior Group            5-10 Yrs   \n",
       "9       Thoucentric Technology Pvt ltd             1-6 Yrs   \n",
       "\n",
       "                                            location  \n",
       "0                                Bangalore/Bengaluru  \n",
       "1                                Bangalore/Bengaluru  \n",
       "2                                Bengaluru/Bangalore  \n",
       "3  Hyderabad/Secunderabad, Bangalore/Bengaluru, M...  \n",
       "4                         Noida, Bangalore/Bengaluru  \n",
       "5                                Bangalore/Bengaluru  \n",
       "6                                Bangalore/Bengaluru  \n",
       "7            Bangalore/Bengaluru\\n(WFH during Covid)  \n",
       "8                                Bangalore/Bengaluru  \n",
       "9                                Bangalore/Bengaluru  "
      ]
     },
     "execution_count": 28,
     "metadata": {},
     "output_type": "execute_result"
    }
   ],
   "source": [
    "jobss[0:10]"
   ]
  },
  {
   "cell_type": "markdown",
   "metadata": {},
   "source": [
    "# Q.3 In this question you have to scrape data using the filters available on the webpage\n",
    "- You have to use the location and salary filter.\n",
    "- You have to scrape data for “Data Scientist” designation for first 10 job results.\n",
    "- You have to scrape the job-title, job-location, company name, experience required.\n",
    "- The location filter to be used is “Delhi/NCR” The salary filter to be used is “3-6” lakhs\n",
    "- The task will be done as shown in the below steps:\n",
    "1. first get the webpage https://www.naukri.com/\n",
    "2. Enter “Data Scientist” in “Skill, Designations, and Companies” field.\n",
    "3. Then click the search button.\n",
    "4. Then apply the location filter and salary filter by checking the respective boxes\n",
    "5. Then scrape the data for the first 10 jobs results you get.\n",
    "6. Finally create a dataframe of the scraped data."
   ]
  },
  {
   "cell_type": "code",
   "execution_count": 30,
   "metadata": {},
   "outputs": [],
   "source": [
    "driver.get('http://www.naukri.com/')"
   ]
  },
  {
   "cell_type": "code",
   "execution_count": 31,
   "metadata": {},
   "outputs": [
    {
     "name": "stderr",
     "output_type": "stream",
     "text": [
      "<ipython-input-31-1f06ef3c2379>:2: DeprecationWarning: find_element_by_* commands are deprecated. Please use find_element() instead\n",
      "  search_job=driver.find_element_by_id('qsb-keyword-sugg')\n"
     ]
    }
   ],
   "source": [
    "#finding element for job search bar as \"Data Scientist\" in \"Bangalore\"\n",
    "search_job=driver.find_element_by_id('qsb-keyword-sugg')\n",
    "search_job.send_keys(\"Data Scientist\")"
   ]
  },
  {
   "cell_type": "code",
   "execution_count": 32,
   "metadata": {},
   "outputs": [
    {
     "name": "stderr",
     "output_type": "stream",
     "text": [
      "<ipython-input-32-27747e043ce9>:1: DeprecationWarning: find_element_by_* commands are deprecated. Please use find_element() instead\n",
      "  search_btnn=driver.find_element_by_xpath(\"//div[@class='search-btn']/button\")\n"
     ]
    }
   ],
   "source": [
    "search_btnn=driver.find_element_by_xpath(\"//div[@class='search-btn']/button\")\n",
    "search_btnn.click()"
   ]
  },
  {
   "cell_type": "code",
   "execution_count": 33,
   "metadata": {},
   "outputs": [],
   "source": [
    "url=\"https://www.naukri.com/data-scientist-jobs?k=data%20scientist&cityTypeGid=9508&ctcFilter=3to6\""
   ]
  },
  {
   "cell_type": "code",
   "execution_count": 34,
   "metadata": {},
   "outputs": [],
   "source": [
    "driver.get(url)"
   ]
  },
  {
   "cell_type": "code",
   "execution_count": 35,
   "metadata": {},
   "outputs": [],
   "source": [
    "# solet's extract all the tags having the job_titles\n",
    "job_title11=[]\n",
    "company_names11=[]\n",
    "location_list11=[]\n",
    "experience_list11=[]"
   ]
  },
  {
   "cell_type": "code",
   "execution_count": 36,
   "metadata": {},
   "outputs": [
    {
     "name": "stderr",
     "output_type": "stream",
     "text": [
      "<ipython-input-36-e373664e27ef>:1: DeprecationWarning: find_elements_by_* commands are deprecated. Please use find_elements() instead\n",
      "  title_tags11=driver.find_elements_by_xpath(\"//a[@class='title fw500 ellipsis']\")\n",
      "<ipython-input-36-e373664e27ef>:2: DeprecationWarning: find_elements_by_* commands are deprecated. Please use find_elements() instead\n",
      "  compnies_tags11=driver.find_elements_by_xpath(\"//a[@class='subTitle ellipsis fleft']\")\n",
      "<ipython-input-36-e373664e27ef>:3: DeprecationWarning: find_elements_by_* commands are deprecated. Please use find_elements() instead\n",
      "  experience_tags11=driver.find_elements_by_xpath(\"//li[@class='fleft grey-text br2 placeHolderLi experience']/span[1]\")\n",
      "<ipython-input-36-e373664e27ef>:4: DeprecationWarning: find_elements_by_* commands are deprecated. Please use find_elements() instead\n",
      "  location_tags11=driver.find_elements_by_xpath(\"//li[@class='fleft grey-text br2 placeHolderLi location']\")\n"
     ]
    }
   ],
   "source": [
    "title_tags11=driver.find_elements_by_xpath(\"//a[@class='title fw500 ellipsis']\")\n",
    "compnies_tags11=driver.find_elements_by_xpath(\"//a[@class='subTitle ellipsis fleft']\")\n",
    "experience_tags11=driver.find_elements_by_xpath(\"//li[@class='fleft grey-text br2 placeHolderLi experience']/span[1]\")\n",
    "location_tags11=driver.find_elements_by_xpath(\"//li[@class='fleft grey-text br2 placeHolderLi location']\")"
   ]
  },
  {
   "cell_type": "code",
   "execution_count": 37,
   "metadata": {},
   "outputs": [],
   "source": [
    "# Now the text of the job title is inside the tags extracted above\n",
    "# so we will run a loop to iterate over the tags extracted above and extracted the detail\n",
    "for i in title_tags11:\n",
    "    titlee=i.text\n",
    "    job_title11.append(titlee)\n",
    "for i in compnies_tags11:\n",
    "    company_namee=i.text\n",
    "    company_names11.append(company_namee)\n",
    "\n",
    "for i in experience_tags11:\n",
    "    experiencee=i.text\n",
    "    experience_list11.append(experiencee)\n",
    "\n",
    "for i in location_tags11:\n",
    "    locationn=i.text\n",
    "    location_list11.append(locationn)\n"
   ]
  },
  {
   "cell_type": "code",
   "execution_count": 38,
   "metadata": {},
   "outputs": [],
   "source": [
    "jobsss=pd.DataFrame({})\n",
    "jobsss['title']=job_title11\n",
    "jobsss['company']=company_names11\n",
    "jobsss['experience_required']=experience_list11\n",
    "jobsss['location']=location_list11"
   ]
  },
  {
   "cell_type": "code",
   "execution_count": 39,
   "metadata": {},
   "outputs": [
    {
     "data": {
      "text/html": [
       "<div>\n",
       "<style scoped>\n",
       "    .dataframe tbody tr th:only-of-type {\n",
       "        vertical-align: middle;\n",
       "    }\n",
       "\n",
       "    .dataframe tbody tr th {\n",
       "        vertical-align: top;\n",
       "    }\n",
       "\n",
       "    .dataframe thead th {\n",
       "        text-align: right;\n",
       "    }\n",
       "</style>\n",
       "<table border=\"1\" class=\"dataframe\">\n",
       "  <thead>\n",
       "    <tr style=\"text-align: right;\">\n",
       "      <th></th>\n",
       "      <th>title</th>\n",
       "      <th>company</th>\n",
       "      <th>experience_required</th>\n",
       "      <th>location</th>\n",
       "    </tr>\n",
       "  </thead>\n",
       "  <tbody>\n",
       "    <tr>\n",
       "      <th>0</th>\n",
       "      <td>Data Scientist</td>\n",
       "      <td>LG Electronics India Pvt. Ltd.</td>\n",
       "      <td>0-2 Yrs</td>\n",
       "      <td>Noida, New Delhi, Faridabad, Gurgaon/Gurugram,...</td>\n",
       "    </tr>\n",
       "    <tr>\n",
       "      <th>1</th>\n",
       "      <td>NTT DATA_ Hiring For BIG DATA ,DATA Scientist,...</td>\n",
       "      <td>NTT Data Business Solutions Pvt Ltd</td>\n",
       "      <td>3-8 Yrs</td>\n",
       "      <td>Noida, Kolkata, Hyderabad/Secunderabad, Ahmeda...</td>\n",
       "    </tr>\n",
       "    <tr>\n",
       "      <th>2</th>\n",
       "      <td>Project Manager | Team Leader | Senior Data Sc...</td>\n",
       "      <td>Tidyquant (OPC) Private Limited</td>\n",
       "      <td>1-5 Yrs</td>\n",
       "      <td>Remote</td>\n",
       "    </tr>\n",
       "    <tr>\n",
       "      <th>3</th>\n",
       "      <td>Data Scientist</td>\n",
       "      <td>Navikenz India Pvt Ltd</td>\n",
       "      <td>2-7 Yrs</td>\n",
       "      <td>Noida, Nodia\\n(WFH during Covid)</td>\n",
       "    </tr>\n",
       "    <tr>\n",
       "      <th>4</th>\n",
       "      <td>Hiring For Data Analyst / Data Scientist</td>\n",
       "      <td>Careerera</td>\n",
       "      <td>1-3 Yrs</td>\n",
       "      <td>Noida(Sector-59 Noida)</td>\n",
       "    </tr>\n",
       "    <tr>\n",
       "      <th>5</th>\n",
       "      <td>Data Scientist</td>\n",
       "      <td>Whizhack Technologies pvt ltd</td>\n",
       "      <td>2-5 Yrs</td>\n",
       "      <td>Gurgaon/Gurugram</td>\n",
       "    </tr>\n",
       "    <tr>\n",
       "      <th>6</th>\n",
       "      <td>Data Scientist</td>\n",
       "      <td>One Mobikwik Systems Private Limited</td>\n",
       "      <td>2-5 Yrs</td>\n",
       "      <td>Gurgaon/Gurugram</td>\n",
       "    </tr>\n",
       "    <tr>\n",
       "      <th>7</th>\n",
       "      <td>Hiring For Data Scientist</td>\n",
       "      <td>Tata Consultancy Services Ltd.</td>\n",
       "      <td>4-9 Yrs</td>\n",
       "      <td>Hyderabad/Secunderabad, Pune, Chennai, Bangalo...</td>\n",
       "    </tr>\n",
       "    <tr>\n",
       "      <th>8</th>\n",
       "      <td>Data Scientist/ Senior Data Scientist</td>\n",
       "      <td>Newgen Software Technologies</td>\n",
       "      <td>2-5 Yrs</td>\n",
       "      <td>Noida</td>\n",
       "    </tr>\n",
       "    <tr>\n",
       "      <th>9</th>\n",
       "      <td>Urgent Hiring For Data Scientist | Work From O...</td>\n",
       "      <td>Careerera</td>\n",
       "      <td>2-7 Yrs</td>\n",
       "      <td>Noida(Sector-59 Noida)</td>\n",
       "    </tr>\n",
       "  </tbody>\n",
       "</table>\n",
       "</div>"
      ],
      "text/plain": [
       "                                               title  \\\n",
       "0                                     Data Scientist   \n",
       "1  NTT DATA_ Hiring For BIG DATA ,DATA Scientist,...   \n",
       "2  Project Manager | Team Leader | Senior Data Sc...   \n",
       "3                                     Data Scientist   \n",
       "4           Hiring For Data Analyst / Data Scientist   \n",
       "5                                     Data Scientist   \n",
       "6                                     Data Scientist   \n",
       "7                          Hiring For Data Scientist   \n",
       "8              Data Scientist/ Senior Data Scientist   \n",
       "9  Urgent Hiring For Data Scientist | Work From O...   \n",
       "\n",
       "                                company experience_required  \\\n",
       "0        LG Electronics India Pvt. Ltd.             0-2 Yrs   \n",
       "1   NTT Data Business Solutions Pvt Ltd             3-8 Yrs   \n",
       "2       Tidyquant (OPC) Private Limited             1-5 Yrs   \n",
       "3                Navikenz India Pvt Ltd             2-7 Yrs   \n",
       "4                             Careerera             1-3 Yrs   \n",
       "5         Whizhack Technologies pvt ltd             2-5 Yrs   \n",
       "6  One Mobikwik Systems Private Limited             2-5 Yrs   \n",
       "7        Tata Consultancy Services Ltd.             4-9 Yrs   \n",
       "8          Newgen Software Technologies             2-5 Yrs   \n",
       "9                             Careerera             2-7 Yrs   \n",
       "\n",
       "                                            location  \n",
       "0  Noida, New Delhi, Faridabad, Gurgaon/Gurugram,...  \n",
       "1  Noida, Kolkata, Hyderabad/Secunderabad, Ahmeda...  \n",
       "2                                             Remote  \n",
       "3                   Noida, Nodia\\n(WFH during Covid)  \n",
       "4                             Noida(Sector-59 Noida)  \n",
       "5                                   Gurgaon/Gurugram  \n",
       "6                                   Gurgaon/Gurugram  \n",
       "7  Hyderabad/Secunderabad, Pune, Chennai, Bangalo...  \n",
       "8                                              Noida  \n",
       "9                             Noida(Sector-59 Noida)  "
      ]
     },
     "execution_count": 39,
     "metadata": {},
     "output_type": "execute_result"
    }
   ],
   "source": [
    "jobsss[0:10]"
   ]
  },
  {
   "cell_type": "markdown",
   "metadata": {},
   "source": [
    "# Q4: Scrape data of first 100 sunglasses listings on flipkart.com. You have to scrape four attributes:\n",
    "1. Brand\n",
    "2. Product Description\n",
    "3. Price"
   ]
  },
  {
   "cell_type": "code",
   "execution_count": 88,
   "metadata": {},
   "outputs": [],
   "source": [
    "driver.get('http://www.flipkart.com/')"
   ]
  },
  {
   "cell_type": "code",
   "execution_count": 12,
   "metadata": {},
   "outputs": [
    {
     "name": "stderr",
     "output_type": "stream",
     "text": [
      "<ipython-input-12-a9fd5ec66827>:2: DeprecationWarning: find_element_by_* commands are deprecated. Please use find_element() instead\n",
      "  search_sunglasses=driver.find_element_by_class_name('_3704LK')\n"
     ]
    }
   ],
   "source": [
    "\n",
    "search_sunglasses=driver.find_element_by_class_name('_3704LK')\n",
    "search_sunglasses.send_keys(\"sunglasses\")"
   ]
  },
  {
   "cell_type": "code",
   "execution_count": 13,
   "metadata": {},
   "outputs": [
    {
     "name": "stderr",
     "output_type": "stream",
     "text": [
      "<ipython-input-13-25c6cba108d4>:1: DeprecationWarning: find_element_by_* commands are deprecated. Please use find_element() instead\n",
      "  search_btnn=driver.find_element_by_xpath(\"//button[@class='L0Z3Pu']\")\n"
     ]
    }
   ],
   "source": [
    "search_btnn=driver.find_element_by_xpath(\"//button[@class='L0Z3Pu']\")\n",
    "search_btnn.click()"
   ]
  },
  {
   "cell_type": "code",
   "execution_count": 14,
   "metadata": {},
   "outputs": [],
   "source": [
    "url=\"https://www.flipkart.com/search?q=sunglasses&otracker=search&otracker1=search&marketplace=FLIPKART&as-show=on&as=off\""
   ]
  },
  {
   "cell_type": "code",
   "execution_count": 15,
   "metadata": {},
   "outputs": [],
   "source": [
    "driver.get(url)"
   ]
  },
  {
   "cell_type": "code",
   "execution_count": 57,
   "metadata": {},
   "outputs": [],
   "source": [
    "brand=[]\n",
    "product_detail=[]\n",
    "price=[]"
   ]
  },
  {
   "cell_type": "code",
   "execution_count": 74,
   "metadata": {},
   "outputs": [
    {
     "name": "stderr",
     "output_type": "stream",
     "text": [
      "<ipython-input-74-8a987f901dbd>:1: DeprecationWarning: find_elements_by_* commands are deprecated. Please use find_elements() instead\n",
      "  brand_tags=driver.find_elements_by_xpath(\"//div[@class='_2WkVRV']\")\n",
      "<ipython-input-74-8a987f901dbd>:2: DeprecationWarning: find_elements_by_* commands are deprecated. Please use find_elements() instead\n",
      "  product_detaill=driver.find_elements_by_xpath(\"//a[@class='IRpwTa']\")\n",
      "<ipython-input-74-8a987f901dbd>:3: DeprecationWarning: find_elements_by_* commands are deprecated. Please use find_elements() instead\n",
      "  pricee=driver.find_elements_by_xpath(\"//div[@class='_30jeq3']\")\n"
     ]
    }
   ],
   "source": [
    "brand_tags=driver.find_elements_by_xpath(\"//div[@class='_2WkVRV']\")\n",
    "product_detaill=driver.find_elements_by_xpath(\"//a[@class='IRpwTa']\")\n",
    "pricee=driver.find_elements_by_xpath(\"//div[@class='_30jeq3']\")"
   ]
  },
  {
   "cell_type": "code",
   "execution_count": 67,
   "metadata": {},
   "outputs": [
    {
     "data": {
      "text/plain": [
       "['SRPM',\n",
       " 'Elligator',\n",
       " 'PIRASO',\n",
       " 'PIRASO',\n",
       " 'New Specs',\n",
       " 'kingsunglasses',\n",
       " 'kingsunglasses',\n",
       " 'Fastrack',\n",
       " 'kingsunglasses',\n",
       " 'Singco India',\n",
       " 'New Specs',\n",
       " 'SHAAH COLLECTIONS',\n",
       " 'PHENOMENAL',\n",
       " 'PIRASO',\n",
       " 'Rich Club',\n",
       " 'PHENOMENAL',\n",
       " 'ROZZETTA CRAFT',\n",
       " 'ROYAL SON',\n",
       " 'SUNBEE',\n",
       " 'ROZZETTA CRAFT',\n",
       " 'PIRASO',\n",
       " 'SHAAH COLLECTIONS',\n",
       " 'PIRASO',\n",
       " 'ROZZETTA CRAFT',\n",
       " 'PIRASO',\n",
       " 'Singco India',\n",
       " 'PIRASO',\n",
       " 'ROYAL SON',\n",
       " 'hipe',\n",
       " 'ROZZETTA CRAFT',\n",
       " 'PIRASO',\n",
       " 'kingsunglasses',\n",
       " 'kingsunglasses',\n",
       " 'agera',\n",
       " 'Rich Club',\n",
       " 'Lee Topper',\n",
       " 'Elligator',\n",
       " 'ROYAL SON',\n",
       " 'kingsunglasses',\n",
       " 'ROYAL SON',\n",
       " 'SRPM',\n",
       " 'Elligator',\n",
       " 'PIRASO',\n",
       " 'PIRASO',\n",
       " 'New Specs',\n",
       " 'kingsunglasses',\n",
       " 'kingsunglasses',\n",
       " 'Fastrack',\n",
       " 'kingsunglasses',\n",
       " 'Singco India',\n",
       " 'New Specs',\n",
       " 'SHAAH COLLECTIONS',\n",
       " 'PHENOMENAL',\n",
       " 'PIRASO',\n",
       " 'Rich Club',\n",
       " 'PHENOMENAL',\n",
       " 'ROZZETTA CRAFT',\n",
       " 'ROYAL SON',\n",
       " 'SUNBEE',\n",
       " 'ROZZETTA CRAFT',\n",
       " 'PIRASO',\n",
       " 'SHAAH COLLECTIONS',\n",
       " 'PIRASO',\n",
       " 'ROZZETTA CRAFT',\n",
       " 'PIRASO',\n",
       " 'Singco India',\n",
       " 'PIRASO',\n",
       " 'ROYAL SON',\n",
       " 'hipe',\n",
       " 'ROZZETTA CRAFT',\n",
       " 'PIRASO',\n",
       " 'kingsunglasses',\n",
       " 'kingsunglasses',\n",
       " 'agera',\n",
       " 'Rich Club',\n",
       " 'Lee Topper',\n",
       " 'Elligator',\n",
       " 'ROYAL SON',\n",
       " 'kingsunglasses',\n",
       " 'ROYAL SON']"
      ]
     },
     "execution_count": 67,
     "metadata": {},
     "output_type": "execute_result"
    }
   ],
   "source": [
    "for i in brand_tags:\n",
    "    bd=i.text\n",
    "    brand.append(bd)\n",
    "brand"
   ]
  },
  {
   "cell_type": "code",
   "execution_count": 75,
   "metadata": {},
   "outputs": [
    {
     "data": {
      "text/plain": [
       "['SRPM\\nUV Protection Wayfarer Sunglasses (56)\\n₹188₹1,29985% off',\n",
       " 'Elligator\\nUV Protection Round Sunglasses (54)\\n₹248₹2,49590% off',\n",
       " 'PIRASO\\nUV Protection Aviator Sunglasses (54)\\n₹187₹1,59988% off',\n",
       " 'PIRASO\\nUV Protection Aviator Sunglasses (54)\\n₹200₹1,59987% off',\n",
       " 'New Specs\\nUV Protection Rectangular Sunglasses (Free Size)\\n₹259₹1,99987% off\\nSize Free Size',\n",
       " 'kingsunglasses\\nUV Protection Round Sunglasses (54)\\n₹189₹1,09982% off\\nSize Medium',\n",
       " 'kingsunglasses\\nMirrored, UV Protection Wayfarer Sunglasses (53)\\n₹274₹1,99986% off\\nSize Free Size, Medium',\n",
       " 'Fastrack\\nUV Protection Wayfarer Sunglasses (Free Size)\\n₹699₹89922% off\\nFree delivery',\n",
       " 'kingsunglasses\\nUV Protection, Riding Glasses, Mirrored Wayfarer Sungla...\\n₹187₹1,19984% off',\n",
       " 'Singco India\\nMirrored, Riding Glasses, Others Sports Sunglasses (50)\\n₹194₹1,49987% off',\n",
       " 'New Specs\\nMirrored, UV Protection, Riding Glasses, Others Round S...\\n₹259₹1,39981% off',\n",
       " 'SHAAH COLLECTIONS\\nUV Protection, Polarized, Mirrored Rectangular Sunglass...\\n₹170₹1,69989% off',\n",
       " 'PHENOMENAL\\nUV Protection, Mirrored Retro Square Sunglasses (53)\\n₹299₹1,99985% off',\n",
       " 'PIRASO\\nUV Protection Aviator Sunglasses (54)\\n₹187₹1,59988% off',\n",
       " 'Rich Club\\nPolarized Round Sunglasses (48)\\n₹175₹49964% off',\n",
       " 'PHENOMENAL\\nUV Protection Retro Square Sunglasses (Free Size)\\n₹319₹1,99984% off',\n",
       " 'ROZZETTA CRAFT\\nUV Protection Retro Square Sunglasses (Free Size)\\n₹474₹2,22578% off',\n",
       " 'ROYAL SON\\nMirrored Aviator Sunglasses (55)\\n₹359₹1,49976% off',\n",
       " 'SUNBEE\\nUV Protection, Polarized, Mirrored Round Sunglasses (Fr...\\n₹271₹1,69984% off',\n",
       " 'ROZZETTA CRAFT\\nUV Protection, Gradient Rectangular Sunglasses (Free Si...\\n₹383₹1,99980% off',\n",
       " 'PIRASO\\nUV Protection, Polarized Aviator Sunglasses (32)\\n₹164₹1,59989% off',\n",
       " 'SHAAH COLLECTIONS\\nUV Protection, Polarized, Mirrored Rectangular Sunglass...\\n₹181₹99981% off',\n",
       " 'PIRASO\\nUV Protection Aviator Sunglasses (55)\\n₹179₹1,59988% off',\n",
       " 'ROZZETTA CRAFT\\nUV Protection, Gradient Round Sunglasses (Free Size)\\n₹360₹1,99981% off',\n",
       " 'PIRASO\\nUV Protection Wayfarer Sunglasses (32)\\n₹187₹1,59988% off',\n",
       " 'Singco India\\nUV Protection, Riding Glasses, Others Aviator, Wayfarer...\\n₹229₹69967% off',\n",
       " 'PIRASO\\nUV Protection Aviator Sunglasses (58)\\n₹299₹2,59988% off',\n",
       " 'ROYAL SON\\nUV Protection Rectangular Sunglasses (58)\\n₹449₹1,49970% off',\n",
       " 'hipe\\nUV Protection Sports Sunglasses (Free Size)\\n₹287₹1,89984% off\\nBuy 2 items, save extra 5%',\n",
       " 'ROZZETTA CRAFT\\nUV Protection Round Sunglasses (Free Size)\\n₹426₹2,66584% off',\n",
       " 'PIRASO\\nUV Protection Aviator Sunglasses (Free Size)\\n₹261₹1,59983% off',\n",
       " 'kingsunglasses\\nUV Protection Rectangular Sunglasses (Free Size)\\n₹192₹1,09982% off',\n",
       " 'kingsunglasses\\nMirrored, UV Protection Aviator Sunglasses (56)\\n₹211₹1,29983% off',\n",
       " 'agera\\nGradient Aviator Sunglasses (55)\\n₹196₹1,14982% off\\nBuy 2 items, save extra 5%',\n",
       " 'Rich Club\\nPolarized Round Sunglasses (48)\\n₹163₹49967% off',\n",
       " 'Lee Topper\\nRiding Glasses, Night Vision Wrap-around Sunglasses (Fr...\\n₹276₹2,49988% off',\n",
       " 'Elligator\\nUV Protection Round Sunglasses (55)\\n₹239₹1,99688% off',\n",
       " 'ROYAL SON\\nUV Protection Round Sunglasses (50)\\n₹359₹1,49976% off',\n",
       " 'kingsunglasses\\nUV Protection, Night Vision Wayfarer Sunglasses (Free S...\\n₹279₹1,69983% off',\n",
       " 'ROYAL SON\\nMirrored Aviator Sunglasses (55)\\n₹359₹1,49976% off',\n",
       " 'SRPM\\nUV Protection Wayfarer Sunglasses (56)\\n₹188₹1,29985% off',\n",
       " 'Elligator\\nUV Protection Round Sunglasses (54)\\n₹248₹2,49590% off',\n",
       " 'PIRASO\\nUV Protection Aviator Sunglasses (54)\\n₹187₹1,59988% off',\n",
       " 'PIRASO\\nUV Protection Aviator Sunglasses (54)\\n₹200₹1,59987% off',\n",
       " 'New Specs\\nUV Protection Rectangular Sunglasses (Free Size)\\n₹259₹1,99987% off\\nSize Free Size',\n",
       " 'kingsunglasses\\nUV Protection Round Sunglasses (54)\\n₹189₹1,09982% off\\nSize Medium',\n",
       " 'kingsunglasses\\nMirrored, UV Protection Wayfarer Sunglasses (53)\\n₹274₹1,99986% off\\nSize Free Size, Medium',\n",
       " 'Fastrack\\nUV Protection Wayfarer Sunglasses (Free Size)\\n₹699₹89922% off\\nFree delivery',\n",
       " 'kingsunglasses\\nUV Protection, Riding Glasses, Mirrored Wayfarer Sungla...\\n₹187₹1,19984% off',\n",
       " 'Singco India\\nMirrored, Riding Glasses, Others Sports Sunglasses (50)\\n₹194₹1,49987% off',\n",
       " 'New Specs\\nMirrored, UV Protection, Riding Glasses, Others Round S...\\n₹259₹1,39981% off',\n",
       " 'SHAAH COLLECTIONS\\nUV Protection, Polarized, Mirrored Rectangular Sunglass...\\n₹170₹1,69989% off',\n",
       " 'PHENOMENAL\\nUV Protection, Mirrored Retro Square Sunglasses (53)\\n₹299₹1,99985% off',\n",
       " 'PIRASO\\nUV Protection Aviator Sunglasses (54)\\n₹187₹1,59988% off',\n",
       " 'Rich Club\\nPolarized Round Sunglasses (48)\\n₹175₹49964% off',\n",
       " 'PHENOMENAL\\nUV Protection Retro Square Sunglasses (Free Size)\\n₹319₹1,99984% off',\n",
       " 'ROZZETTA CRAFT\\nUV Protection Retro Square Sunglasses (Free Size)\\n₹474₹2,22578% off',\n",
       " 'ROYAL SON\\nMirrored Aviator Sunglasses (55)\\n₹359₹1,49976% off',\n",
       " 'SUNBEE\\nUV Protection, Polarized, Mirrored Round Sunglasses (Fr...\\n₹271₹1,69984% off',\n",
       " 'ROZZETTA CRAFT\\nUV Protection, Gradient Rectangular Sunglasses (Free Si...\\n₹383₹1,99980% off',\n",
       " 'PIRASO\\nUV Protection, Polarized Aviator Sunglasses (32)\\n₹164₹1,59989% off',\n",
       " 'SHAAH COLLECTIONS\\nUV Protection, Polarized, Mirrored Rectangular Sunglass...\\n₹181₹99981% off',\n",
       " 'PIRASO\\nUV Protection Aviator Sunglasses (55)\\n₹179₹1,59988% off',\n",
       " 'ROZZETTA CRAFT\\nUV Protection, Gradient Round Sunglasses (Free Size)\\n₹360₹1,99981% off',\n",
       " 'PIRASO\\nUV Protection Wayfarer Sunglasses (32)\\n₹187₹1,59988% off',\n",
       " 'Singco India\\nUV Protection, Riding Glasses, Others Aviator, Wayfarer...\\n₹229₹69967% off',\n",
       " 'PIRASO\\nUV Protection Aviator Sunglasses (58)\\n₹299₹2,59988% off',\n",
       " 'ROYAL SON\\nUV Protection Rectangular Sunglasses (58)\\n₹449₹1,49970% off',\n",
       " 'hipe\\nUV Protection Sports Sunglasses (Free Size)\\n₹287₹1,89984% off\\nBuy 2 items, save extra 5%',\n",
       " 'ROZZETTA CRAFT\\nUV Protection Round Sunglasses (Free Size)\\n₹426₹2,66584% off',\n",
       " 'PIRASO\\nUV Protection Aviator Sunglasses (Free Size)\\n₹261₹1,59983% off',\n",
       " 'kingsunglasses\\nUV Protection Rectangular Sunglasses (Free Size)\\n₹192₹1,09982% off',\n",
       " 'kingsunglasses\\nMirrored, UV Protection Aviator Sunglasses (56)\\n₹211₹1,29983% off',\n",
       " 'agera\\nGradient Aviator Sunglasses (55)\\n₹196₹1,14982% off\\nBuy 2 items, save extra 5%',\n",
       " 'Rich Club\\nPolarized Round Sunglasses (48)\\n₹163₹49967% off',\n",
       " 'Lee Topper\\nRiding Glasses, Night Vision Wrap-around Sunglasses (Fr...\\n₹276₹2,49988% off',\n",
       " 'Elligator\\nUV Protection Round Sunglasses (55)\\n₹239₹1,99688% off',\n",
       " 'ROYAL SON\\nUV Protection Round Sunglasses (50)\\n₹359₹1,49976% off',\n",
       " 'kingsunglasses\\nUV Protection, Night Vision Wayfarer Sunglasses (Free S...\\n₹279₹1,69983% off',\n",
       " 'ROYAL SON\\nMirrored Aviator Sunglasses (55)\\n₹359₹1,49976% off',\n",
       " 'SRPM\\nUV Protection Wayfarer Sunglasses (56)\\n₹188₹1,29985% off',\n",
       " 'Elligator\\nUV Protection Round Sunglasses (54)\\n₹248₹2,49590% off',\n",
       " 'PIRASO\\nUV Protection Aviator Sunglasses (54)\\n₹187₹1,59988% off',\n",
       " 'PIRASO\\nUV Protection Aviator Sunglasses (54)\\n₹200₹1,59987% off',\n",
       " 'New Specs\\nUV Protection Rectangular Sunglasses (Free Size)\\n₹259₹1,99987% off\\nSize Free Size',\n",
       " 'kingsunglasses\\nUV Protection Round Sunglasses (54)\\n₹189₹1,09982% off\\nSize Medium',\n",
       " 'kingsunglasses\\nMirrored, UV Protection Wayfarer Sunglasses (53)\\n₹274₹1,99986% off\\nSize Free Size, Medium',\n",
       " 'Fastrack\\nUV Protection Wayfarer Sunglasses (Free Size)\\n₹699₹89922% off\\nFree delivery',\n",
       " 'kingsunglasses\\nUV Protection, Riding Glasses, Mirrored Wayfarer Sungla...\\n₹187₹1,19984% off',\n",
       " 'Singco India\\nMirrored, Riding Glasses, Others Sports Sunglasses (50)\\n₹194₹1,49987% off',\n",
       " 'New Specs\\nMirrored, UV Protection, Riding Glasses, Others Round S...\\n₹259₹1,39981% off',\n",
       " 'SHAAH COLLECTIONS\\nUV Protection, Polarized, Mirrored Rectangular Sunglass...\\n₹170₹1,69989% off',\n",
       " 'PHENOMENAL\\nUV Protection, Mirrored Retro Square Sunglasses (53)\\n₹299₹1,99985% off',\n",
       " 'PIRASO\\nUV Protection Aviator Sunglasses (54)\\n₹187₹1,59988% off',\n",
       " 'Rich Club\\nPolarized Round Sunglasses (48)\\n₹175₹49964% off',\n",
       " 'PHENOMENAL\\nUV Protection Retro Square Sunglasses (Free Size)\\n₹319₹1,99984% off',\n",
       " 'ROZZETTA CRAFT\\nUV Protection Retro Square Sunglasses (Free Size)\\n₹474₹2,22578% off',\n",
       " 'ROYAL SON\\nMirrored Aviator Sunglasses (55)\\n₹359₹1,49976% off',\n",
       " 'SUNBEE\\nUV Protection, Polarized, Mirrored Round Sunglasses (Fr...\\n₹271₹1,69984% off',\n",
       " 'ROZZETTA CRAFT\\nUV Protection, Gradient Rectangular Sunglasses (Free Si...\\n₹383₹1,99980% off',\n",
       " 'PIRASO\\nUV Protection, Polarized Aviator Sunglasses (32)\\n₹164₹1,59989% off',\n",
       " 'SHAAH COLLECTIONS\\nUV Protection, Polarized, Mirrored Rectangular Sunglass...\\n₹181₹99981% off',\n",
       " 'PIRASO\\nUV Protection Aviator Sunglasses (55)\\n₹179₹1,59988% off',\n",
       " 'ROZZETTA CRAFT\\nUV Protection, Gradient Round Sunglasses (Free Size)\\n₹360₹1,99981% off',\n",
       " 'PIRASO\\nUV Protection Wayfarer Sunglasses (32)\\n₹187₹1,59988% off',\n",
       " 'Singco India\\nUV Protection, Riding Glasses, Others Aviator, Wayfarer...\\n₹229₹69967% off',\n",
       " 'PIRASO\\nUV Protection Aviator Sunglasses (58)\\n₹299₹2,59988% off',\n",
       " 'ROYAL SON\\nUV Protection Rectangular Sunglasses (58)\\n₹449₹1,49970% off',\n",
       " 'hipe\\nUV Protection Sports Sunglasses (Free Size)\\n₹287₹1,89984% off\\nBuy 2 items, save extra 5%',\n",
       " 'ROZZETTA CRAFT\\nUV Protection Round Sunglasses (Free Size)\\n₹426₹2,66584% off',\n",
       " 'PIRASO\\nUV Protection Aviator Sunglasses (Free Size)\\n₹261₹1,59983% off',\n",
       " 'kingsunglasses\\nUV Protection Rectangular Sunglasses (Free Size)\\n₹192₹1,09982% off',\n",
       " 'kingsunglasses\\nMirrored, UV Protection Aviator Sunglasses (56)\\n₹211₹1,29983% off',\n",
       " 'agera\\nGradient Aviator Sunglasses (55)\\n₹196₹1,14982% off\\nBuy 2 items, save extra 5%',\n",
       " 'Rich Club\\nPolarized Round Sunglasses (48)\\n₹163₹49967% off',\n",
       " 'Lee Topper\\nRiding Glasses, Night Vision Wrap-around Sunglasses (Fr...\\n₹276₹2,49988% off',\n",
       " 'Elligator\\nUV Protection Round Sunglasses (55)\\n₹239₹1,99688% off',\n",
       " 'ROYAL SON\\nUV Protection Round Sunglasses (50)\\n₹359₹1,49976% off',\n",
       " 'kingsunglasses\\nUV Protection, Night Vision Wayfarer Sunglasses (Free S...\\n₹279₹1,69983% off',\n",
       " 'ROYAL SON\\nMirrored Aviator Sunglasses (55)\\n₹359₹1,49976% off',\n",
       " 'UV Protection Wayfarer Sunglasses (56)',\n",
       " 'UV Protection Round Sunglasses (54)',\n",
       " 'UV Protection Aviator Sunglasses (54)',\n",
       " 'UV Protection Aviator Sunglasses (54)',\n",
       " 'UV Protection Rectangular Sunglasses (Free Size)',\n",
       " 'UV Protection Round Sunglasses (54)',\n",
       " 'Mirrored, UV Protection Wayfarer Sunglasses (53)',\n",
       " 'UV Protection Wayfarer Sunglasses (Free Size)',\n",
       " 'UV Protection, Riding Glasses, Mirrored Wayfarer Sungla...',\n",
       " 'Mirrored, Riding Glasses, Others Sports Sunglasses (50)',\n",
       " 'Mirrored, UV Protection, Riding Glasses, Others Round S...',\n",
       " 'UV Protection, Polarized, Mirrored Rectangular Sunglass...',\n",
       " 'UV Protection, Mirrored Retro Square Sunglasses (53)',\n",
       " 'UV Protection Aviator Sunglasses (54)',\n",
       " 'Polarized Round Sunglasses (48)',\n",
       " 'UV Protection Retro Square Sunglasses (Free Size)',\n",
       " 'UV Protection Retro Square Sunglasses (Free Size)',\n",
       " 'Mirrored Aviator Sunglasses (55)',\n",
       " 'UV Protection, Polarized, Mirrored Round Sunglasses (Fr...',\n",
       " 'UV Protection, Gradient Rectangular Sunglasses (Free Si...',\n",
       " 'UV Protection, Polarized Aviator Sunglasses (32)',\n",
       " 'UV Protection, Polarized, Mirrored Rectangular Sunglass...',\n",
       " 'UV Protection Aviator Sunglasses (55)',\n",
       " 'UV Protection, Gradient Round Sunglasses (Free Size)',\n",
       " 'UV Protection Wayfarer Sunglasses (32)',\n",
       " 'UV Protection, Riding Glasses, Others Aviator, Wayfarer...',\n",
       " 'UV Protection Aviator Sunglasses (58)',\n",
       " 'UV Protection Rectangular Sunglasses (58)',\n",
       " 'UV Protection Sports Sunglasses (Free Size)',\n",
       " 'UV Protection Round Sunglasses (Free Size)',\n",
       " 'UV Protection Aviator Sunglasses (Free Size)',\n",
       " 'UV Protection Rectangular Sunglasses (Free Size)',\n",
       " 'Mirrored, UV Protection Aviator Sunglasses (56)',\n",
       " 'Gradient Aviator Sunglasses (55)',\n",
       " 'Polarized Round Sunglasses (48)',\n",
       " 'Riding Glasses, Night Vision Wrap-around Sunglasses (Fr...',\n",
       " 'UV Protection Round Sunglasses (55)',\n",
       " 'UV Protection Round Sunglasses (50)',\n",
       " 'UV Protection, Night Vision Wayfarer Sunglasses (Free S...',\n",
       " 'Mirrored Aviator Sunglasses (55)',\n",
       " 'UV Protection Wayfarer Sunglasses (56)',\n",
       " 'UV Protection Round Sunglasses (54)',\n",
       " 'UV Protection Aviator Sunglasses (54)',\n",
       " 'UV Protection Aviator Sunglasses (54)',\n",
       " 'UV Protection Rectangular Sunglasses (Free Size)',\n",
       " 'UV Protection Round Sunglasses (54)',\n",
       " 'Mirrored, UV Protection Wayfarer Sunglasses (53)',\n",
       " 'UV Protection Wayfarer Sunglasses (Free Size)',\n",
       " 'UV Protection, Riding Glasses, Mirrored Wayfarer Sungla...',\n",
       " 'Mirrored, Riding Glasses, Others Sports Sunglasses (50)',\n",
       " 'Mirrored, UV Protection, Riding Glasses, Others Round S...',\n",
       " 'UV Protection, Polarized, Mirrored Rectangular Sunglass...',\n",
       " 'UV Protection, Mirrored Retro Square Sunglasses (53)',\n",
       " 'UV Protection Aviator Sunglasses (54)',\n",
       " 'Polarized Round Sunglasses (48)',\n",
       " 'UV Protection Retro Square Sunglasses (Free Size)',\n",
       " 'UV Protection Retro Square Sunglasses (Free Size)',\n",
       " 'Mirrored Aviator Sunglasses (55)',\n",
       " 'UV Protection, Polarized, Mirrored Round Sunglasses (Fr...',\n",
       " 'UV Protection, Gradient Rectangular Sunglasses (Free Si...',\n",
       " 'UV Protection, Polarized Aviator Sunglasses (32)',\n",
       " 'UV Protection, Polarized, Mirrored Rectangular Sunglass...',\n",
       " 'UV Protection Aviator Sunglasses (55)',\n",
       " 'UV Protection, Gradient Round Sunglasses (Free Size)',\n",
       " 'UV Protection Wayfarer Sunglasses (32)',\n",
       " 'UV Protection, Riding Glasses, Others Aviator, Wayfarer...',\n",
       " 'UV Protection Aviator Sunglasses (58)',\n",
       " 'UV Protection Rectangular Sunglasses (58)',\n",
       " 'UV Protection Sports Sunglasses (Free Size)',\n",
       " 'UV Protection Round Sunglasses (Free Size)',\n",
       " 'UV Protection Aviator Sunglasses (Free Size)',\n",
       " 'UV Protection Rectangular Sunglasses (Free Size)',\n",
       " 'Mirrored, UV Protection Aviator Sunglasses (56)',\n",
       " 'Gradient Aviator Sunglasses (55)',\n",
       " 'Polarized Round Sunglasses (48)',\n",
       " 'Riding Glasses, Night Vision Wrap-around Sunglasses (Fr...',\n",
       " 'UV Protection Round Sunglasses (55)',\n",
       " 'UV Protection Round Sunglasses (50)',\n",
       " 'UV Protection, Night Vision Wayfarer Sunglasses (Free S...',\n",
       " 'Mirrored Aviator Sunglasses (55)',\n",
       " 'UV Protection Wayfarer Sunglasses (56)',\n",
       " 'UV Protection Round Sunglasses (54)',\n",
       " 'UV Protection Aviator Sunglasses (54)',\n",
       " 'UV Protection Aviator Sunglasses (54)',\n",
       " 'UV Protection Rectangular Sunglasses (Free Size)',\n",
       " 'UV Protection Round Sunglasses (54)',\n",
       " 'Mirrored, UV Protection Wayfarer Sunglasses (53)',\n",
       " 'UV Protection Wayfarer Sunglasses (Free Size)',\n",
       " 'UV Protection, Riding Glasses, Mirrored Wayfarer Sungla...',\n",
       " 'Mirrored, Riding Glasses, Others Sports Sunglasses (50)',\n",
       " 'Mirrored, UV Protection, Riding Glasses, Others Round S...',\n",
       " 'UV Protection, Polarized, Mirrored Rectangular Sunglass...',\n",
       " 'UV Protection, Mirrored Retro Square Sunglasses (53)',\n",
       " 'UV Protection Aviator Sunglasses (54)',\n",
       " 'Polarized Round Sunglasses (48)',\n",
       " 'UV Protection Retro Square Sunglasses (Free Size)',\n",
       " 'UV Protection Retro Square Sunglasses (Free Size)',\n",
       " 'Mirrored Aviator Sunglasses (55)',\n",
       " 'UV Protection, Polarized, Mirrored Round Sunglasses (Fr...',\n",
       " 'UV Protection, Gradient Rectangular Sunglasses (Free Si...',\n",
       " 'UV Protection, Polarized Aviator Sunglasses (32)',\n",
       " 'UV Protection, Polarized, Mirrored Rectangular Sunglass...',\n",
       " 'UV Protection Aviator Sunglasses (55)',\n",
       " 'UV Protection, Gradient Round Sunglasses (Free Size)',\n",
       " 'UV Protection Wayfarer Sunglasses (32)',\n",
       " 'UV Protection, Riding Glasses, Others Aviator, Wayfarer...',\n",
       " 'UV Protection Aviator Sunglasses (58)',\n",
       " 'UV Protection Rectangular Sunglasses (58)',\n",
       " 'UV Protection Sports Sunglasses (Free Size)',\n",
       " 'UV Protection Round Sunglasses (Free Size)',\n",
       " 'UV Protection Aviator Sunglasses (Free Size)',\n",
       " 'UV Protection Rectangular Sunglasses (Free Size)',\n",
       " 'Mirrored, UV Protection Aviator Sunglasses (56)',\n",
       " 'Gradient Aviator Sunglasses (55)',\n",
       " 'Polarized Round Sunglasses (48)',\n",
       " 'Riding Glasses, Night Vision Wrap-around Sunglasses (Fr...',\n",
       " 'UV Protection Round Sunglasses (55)',\n",
       " 'UV Protection Round Sunglasses (50)',\n",
       " 'UV Protection, Night Vision Wayfarer Sunglasses (Free S...',\n",
       " 'Mirrored Aviator Sunglasses (55)']"
      ]
     },
     "execution_count": 75,
     "metadata": {},
     "output_type": "execute_result"
    }
   ],
   "source": [
    "for i in product_detaill:\n",
    "    pdd=i.text\n",
    "    product_detail.append(pdd)\n",
    "product_detail"
   ]
  },
  {
   "cell_type": "code",
   "execution_count": 73,
   "metadata": {},
   "outputs": [
    {
     "data": {
      "text/plain": [
       "['₹188',\n",
       " '₹248',\n",
       " '₹187',\n",
       " '₹200',\n",
       " '₹259',\n",
       " '₹189',\n",
       " '₹274',\n",
       " '₹699',\n",
       " '₹187',\n",
       " '₹194',\n",
       " '₹259',\n",
       " '₹170',\n",
       " '₹299',\n",
       " '₹187',\n",
       " '₹175',\n",
       " '₹319',\n",
       " '₹474',\n",
       " '₹359',\n",
       " '₹271',\n",
       " '₹383',\n",
       " '₹164',\n",
       " '₹181',\n",
       " '₹179',\n",
       " '₹360',\n",
       " '₹187',\n",
       " '₹229',\n",
       " '₹299',\n",
       " '₹449',\n",
       " '₹287',\n",
       " '₹426',\n",
       " '₹261',\n",
       " '₹192',\n",
       " '₹211',\n",
       " '₹196',\n",
       " '₹163',\n",
       " '₹276',\n",
       " '₹239',\n",
       " '₹359',\n",
       " '₹279',\n",
       " '₹359',\n",
       " '₹188',\n",
       " '₹248',\n",
       " '₹187',\n",
       " '₹200',\n",
       " '₹259',\n",
       " '₹189',\n",
       " '₹274',\n",
       " '₹699',\n",
       " '₹187',\n",
       " '₹194',\n",
       " '₹259',\n",
       " '₹170',\n",
       " '₹299',\n",
       " '₹187',\n",
       " '₹175',\n",
       " '₹319',\n",
       " '₹474',\n",
       " '₹359',\n",
       " '₹271',\n",
       " '₹383',\n",
       " '₹164',\n",
       " '₹181',\n",
       " '₹179',\n",
       " '₹360',\n",
       " '₹187',\n",
       " '₹229',\n",
       " '₹299',\n",
       " '₹449',\n",
       " '₹287',\n",
       " '₹426',\n",
       " '₹261',\n",
       " '₹192',\n",
       " '₹211',\n",
       " '₹196',\n",
       " '₹163',\n",
       " '₹276',\n",
       " '₹239',\n",
       " '₹359',\n",
       " '₹279',\n",
       " '₹359',\n",
       " '₹188',\n",
       " '₹248',\n",
       " '₹187',\n",
       " '₹200',\n",
       " '₹259',\n",
       " '₹189',\n",
       " '₹274',\n",
       " '₹699',\n",
       " '₹187',\n",
       " '₹194',\n",
       " '₹259',\n",
       " '₹170',\n",
       " '₹299',\n",
       " '₹187',\n",
       " '₹175',\n",
       " '₹319',\n",
       " '₹474',\n",
       " '₹359',\n",
       " '₹271',\n",
       " '₹383',\n",
       " '₹164',\n",
       " '₹181',\n",
       " '₹179',\n",
       " '₹360',\n",
       " '₹187',\n",
       " '₹229',\n",
       " '₹299',\n",
       " '₹449',\n",
       " '₹287',\n",
       " '₹426',\n",
       " '₹261',\n",
       " '₹192',\n",
       " '₹211',\n",
       " '₹196',\n",
       " '₹163',\n",
       " '₹276',\n",
       " '₹239',\n",
       " '₹359',\n",
       " '₹279',\n",
       " '₹359']"
      ]
     },
     "execution_count": 73,
     "metadata": {},
     "output_type": "execute_result"
    }
   ],
   "source": [
    "for i in pricee:\n",
    "    rs=i.text\n",
    "    price.append(rs)\n",
    "price"
   ]
  },
  {
   "cell_type": "code",
   "execution_count": 76,
   "metadata": {},
   "outputs": [
    {
     "name": "stdout",
     "output_type": "stream",
     "text": [
      "80 240 120\n"
     ]
    }
   ],
   "source": [
    "print(len(brand),len(product_detail),len(price))"
   ]
  },
  {
   "cell_type": "code",
   "execution_count": 60,
   "metadata": {},
   "outputs": [],
   "source": []
  },
  {
   "cell_type": "code",
   "execution_count": 82,
   "metadata": {},
   "outputs": [],
   "source": [
    "import pandas as pd\n",
    "su=pd.DataFrame({})\n",
    "su['sunglass_Brand']=brand[:80]\n",
    "su['Production_Details']=product_detail[:80]\n",
    "su['Price']=price[:80]"
   ]
  },
  {
   "cell_type": "code",
   "execution_count": 83,
   "metadata": {},
   "outputs": [
    {
     "data": {
      "text/html": [
       "<div>\n",
       "<style scoped>\n",
       "    .dataframe tbody tr th:only-of-type {\n",
       "        vertical-align: middle;\n",
       "    }\n",
       "\n",
       "    .dataframe tbody tr th {\n",
       "        vertical-align: top;\n",
       "    }\n",
       "\n",
       "    .dataframe thead th {\n",
       "        text-align: right;\n",
       "    }\n",
       "</style>\n",
       "<table border=\"1\" class=\"dataframe\">\n",
       "  <thead>\n",
       "    <tr style=\"text-align: right;\">\n",
       "      <th></th>\n",
       "      <th>sunglass_Brand</th>\n",
       "      <th>Production_Details</th>\n",
       "      <th>Price</th>\n",
       "    </tr>\n",
       "  </thead>\n",
       "  <tbody>\n",
       "    <tr>\n",
       "      <th>0</th>\n",
       "      <td>SRPM</td>\n",
       "      <td>SRPM\\nUV Protection Wayfarer Sunglasses (56)\\n...</td>\n",
       "      <td>₹188</td>\n",
       "    </tr>\n",
       "    <tr>\n",
       "      <th>1</th>\n",
       "      <td>Elligator</td>\n",
       "      <td>Elligator\\nUV Protection Round Sunglasses (54)...</td>\n",
       "      <td>₹248</td>\n",
       "    </tr>\n",
       "    <tr>\n",
       "      <th>2</th>\n",
       "      <td>PIRASO</td>\n",
       "      <td>PIRASO\\nUV Protection Aviator Sunglasses (54)\\...</td>\n",
       "      <td>₹187</td>\n",
       "    </tr>\n",
       "    <tr>\n",
       "      <th>3</th>\n",
       "      <td>PIRASO</td>\n",
       "      <td>PIRASO\\nUV Protection Aviator Sunglasses (54)\\...</td>\n",
       "      <td>₹200</td>\n",
       "    </tr>\n",
       "    <tr>\n",
       "      <th>4</th>\n",
       "      <td>New Specs</td>\n",
       "      <td>New Specs\\nUV Protection Rectangular Sunglasse...</td>\n",
       "      <td>₹259</td>\n",
       "    </tr>\n",
       "    <tr>\n",
       "      <th>...</th>\n",
       "      <td>...</td>\n",
       "      <td>...</td>\n",
       "      <td>...</td>\n",
       "    </tr>\n",
       "    <tr>\n",
       "      <th>75</th>\n",
       "      <td>Lee Topper</td>\n",
       "      <td>Lee Topper\\nRiding Glasses, Night Vision Wrap-...</td>\n",
       "      <td>₹276</td>\n",
       "    </tr>\n",
       "    <tr>\n",
       "      <th>76</th>\n",
       "      <td>Elligator</td>\n",
       "      <td>Elligator\\nUV Protection Round Sunglasses (55)...</td>\n",
       "      <td>₹239</td>\n",
       "    </tr>\n",
       "    <tr>\n",
       "      <th>77</th>\n",
       "      <td>ROYAL SON</td>\n",
       "      <td>ROYAL SON\\nUV Protection Round Sunglasses (50)...</td>\n",
       "      <td>₹359</td>\n",
       "    </tr>\n",
       "    <tr>\n",
       "      <th>78</th>\n",
       "      <td>kingsunglasses</td>\n",
       "      <td>kingsunglasses\\nUV Protection, Night Vision Wa...</td>\n",
       "      <td>₹279</td>\n",
       "    </tr>\n",
       "    <tr>\n",
       "      <th>79</th>\n",
       "      <td>ROYAL SON</td>\n",
       "      <td>ROYAL SON\\nMirrored Aviator Sunglasses (55)\\n₹...</td>\n",
       "      <td>₹359</td>\n",
       "    </tr>\n",
       "  </tbody>\n",
       "</table>\n",
       "<p>80 rows × 3 columns</p>\n",
       "</div>"
      ],
      "text/plain": [
       "    sunglass_Brand                                 Production_Details Price\n",
       "0             SRPM  SRPM\\nUV Protection Wayfarer Sunglasses (56)\\n...  ₹188\n",
       "1        Elligator  Elligator\\nUV Protection Round Sunglasses (54)...  ₹248\n",
       "2           PIRASO  PIRASO\\nUV Protection Aviator Sunglasses (54)\\...  ₹187\n",
       "3           PIRASO  PIRASO\\nUV Protection Aviator Sunglasses (54)\\...  ₹200\n",
       "4        New Specs  New Specs\\nUV Protection Rectangular Sunglasse...  ₹259\n",
       "..             ...                                                ...   ...\n",
       "75      Lee Topper  Lee Topper\\nRiding Glasses, Night Vision Wrap-...  ₹276\n",
       "76       Elligator  Elligator\\nUV Protection Round Sunglasses (55)...  ₹239\n",
       "77       ROYAL SON  ROYAL SON\\nUV Protection Round Sunglasses (50)...  ₹359\n",
       "78  kingsunglasses  kingsunglasses\\nUV Protection, Night Vision Wa...  ₹279\n",
       "79       ROYAL SON  ROYAL SON\\nMirrored Aviator Sunglasses (55)\\n₹...  ₹359\n",
       "\n",
       "[80 rows x 3 columns]"
      ]
     },
     "execution_count": 83,
     "metadata": {},
     "output_type": "execute_result"
    }
   ],
   "source": [
    "su"
   ]
  },
  {
   "cell_type": "markdown",
   "metadata": {},
   "source": [
    "# Q5: Scrape 100 reviews data from flipkart.com for iphone11 phone. You have to go the link:\n",
    "https://www.flipkart.com/apple-iphone-11-black-64-gb-includes- earpods-poweradapter/p/itm0f37c2240b217?pid=MOBFKCTSVZAXUHGR&lid=LSTMOBFKCTSVZAXUHGREPBFGI&marketplace.\n",
    "1. Rating\n",
    "2. Review_summary\n",
    "3. Full review\n",
    "4. You have to scrape this data for first 100 reviews."
   ]
  },
  {
   "cell_type": "code",
   "execution_count": 179,
   "metadata": {},
   "outputs": [],
   "source": [
    "url=\"https://www.flipkart.com/apple-iphone-11-black-64-gb-includes-earpods-power-adapter/product-reviews/itm0f37c2240b217?pid=MOBFKCTSVZAXUHGR&lid=LSTMOBFKCTSVZAXUHGREPBFGI&marketplace=FLIPKART\"\n",
    "url1=\"https://www.flipkart.com/apple-iphone-11-black-64-gb-includes-earpods-power-adapter/product-reviews/itm0f37c2240b217?pid=MOBFKCTSVZAXUHGR&lid=LSTMOBFKCTSVZAXUHGREPBFGI&marketplace=FLIPKART&page=2\"\n",
    "url2=\"https://www.flipkart.com/apple-iphone-11-black-64-gb-includes-earpods-power-adapter/product-reviews/itm0f37c2240b217?pid=MOBFKCTSVZAXUHGR&lid=LSTMOBFKCTSVZAXUHGREPBFGI&marketplace=FLIPKART&page=3\"\n",
    "url3=\"https://www.flipkart.com/apple-iphone-11-black-64-gb-includes-earpods-power-adapter/product-reviews/itm0f37c2240b217?pid=MOBFKCTSVZAXUHGR&lid=LSTMOBFKCTSVZAXUHGREPBFGI&marketplace=FLIPKART&page=4\"\n",
    "url4=\"https://www.flipkart.com/apple-iphone-11-black-64-gb-includes-earpods-power-adapter/product-reviews/itm0f37c2240b217?pid=MOBFKCTSVZAXUHGR&lid=LSTMOBFKCTSVZAXUHGREPBFGI&marketplace=FLIPKART&page=5\"\n",
    "url5=\"https://www.flipkart.com/apple-iphone-11-black-64-gb-includes-earpods-power-adapter/product-reviews/itm0f37c2240b217?pid=MOBFKCTSVZAXUHGR&lid=LSTMOBFKCTSVZAXUHGREPBFGI&marketplace=FLIPKART&page=6\"\n",
    "url6=\"https://www.flipkart.com/apple-iphone-11-black-64-gb-includes-earpods-power-adapter/product-reviews/itm0f37c2240b217?pid=MOBFKCTSVZAXUHGR&lid=LSTMOBFKCTSVZAXUHGREPBFGI&marketplace=FLIPKART&page=7\"\n",
    "url7=\"https://www.flipkart.com/apple-iphone-11-black-64-gb-includes-earpods-power-adapter/product-reviews/itm0f37c2240b217?pid=MOBFKCTSVZAXUHGR&lid=LSTMOBFKCTSVZAXUHGREPBFGI&marketplace=FLIPKART&page=8\"\n",
    "url8=\"https://www.flipkart.com/apple-iphone-11-black-64-gb-includes-earpods-power-adapter/product-reviews/itm0f37c2240b217?pid=MOBFKCTSVZAXUHGR&lid=LSTMOBFKCTSVZAXUHGREPBFGI&marketplace=FLIPKART&page=9\"\n",
    "url9=\"https://www.flipkart.com/apple-iphone-11-black-64-gb-includes-earpods-power-adapter/product-reviews/itm0f37c2240b217?pid=MOBFKCTSVZAXUHGR&lid=LSTMOBFKCTSVZAXUHGREPBFGI&marketplace=FLIPKART&page=10\""
   ]
  },
  {
   "cell_type": "code",
   "execution_count": 180,
   "metadata": {},
   "outputs": [],
   "source": [
    "driver.get(url)\n",
    "driver.get(url1)\n",
    "driver.get(url2)\n",
    "driver.get(url3)\n",
    "driver.get(url4)\n",
    "driver.get(url5)\n",
    "driver.get(url6)\n",
    "driver.get(url7)\n",
    "driver.get(url8)\n",
    "driver.get(url9)\n",
    "\n"
   ]
  },
  {
   "cell_type": "code",
   "execution_count": 101,
   "metadata": {},
   "outputs": [],
   "source": [
    "rating=[]\n",
    "review=[]\n",
    "full_review=[]"
   ]
  },
  {
   "cell_type": "code",
   "execution_count": 181,
   "metadata": {},
   "outputs": [
    {
     "name": "stderr",
     "output_type": "stream",
     "text": [
      "<ipython-input-181-8c4cb7a2b4c0>:1: DeprecationWarning: find_elements_by_* commands are deprecated. Please use find_elements() instead\n",
      "  rating_tags=driver.find_elements_by_xpath(\"//div[@class='_3LWZlK _1BLPMq']\")\n",
      "<ipython-input-181-8c4cb7a2b4c0>:2: DeprecationWarning: find_elements_by_* commands are deprecated. Please use find_elements() instead\n",
      "  review_tags=driver.find_elements_by_xpath(\"//p[@class='_2-N8zT']\")\n",
      "<ipython-input-181-8c4cb7a2b4c0>:3: DeprecationWarning: find_elements_by_* commands are deprecated. Please use find_elements() instead\n",
      "  full_review_tags=driver.find_elements_by_xpath(\"//div[@class='']\")\n"
     ]
    }
   ],
   "source": [
    "rating_tags=driver.find_elements_by_xpath(\"//div[@class='_3LWZlK _1BLPMq']\")\n",
    "review_tags=driver.find_elements_by_xpath(\"//p[@class='_2-N8zT']\")\n",
    "full_review_tags=driver.find_elements_by_xpath(\"//div[@class='']\")"
   ]
  },
  {
   "cell_type": "code",
   "execution_count": 182,
   "metadata": {},
   "outputs": [
    {
     "name": "stdout",
     "output_type": "stream",
     "text": [
      "143 120 120\n"
     ]
    }
   ],
   "source": [
    "for i in rating_tags:\n",
    "    rt=i.text\n",
    "    rating.append(rt)\n",
    "for i in review_tags:\n",
    "    rtt=i.text\n",
    "    review.append(rtt)\n",
    "for i in full_review_tags:\n",
    "    frtt=i.text\n",
    "    full_review.append(frtt)\n",
    "print(len(rating),len(review),len(full_review))"
   ]
  },
  {
   "cell_type": "code",
   "execution_count": null,
   "metadata": {},
   "outputs": [],
   "source": []
  },
  {
   "cell_type": "code",
   "execution_count": null,
   "metadata": {},
   "outputs": [],
   "source": []
  },
  {
   "cell_type": "code",
   "execution_count": 183,
   "metadata": {},
   "outputs": [],
   "source": [
    "iphone=pd.DataFrame({})\n",
    "iphone['Rating']=rating[:100]\n",
    "iphone['Review']=review[:100]\n",
    "iphone['Full Reiview']=full_review[:100]"
   ]
  },
  {
   "cell_type": "code",
   "execution_count": 188,
   "metadata": {},
   "outputs": [
    {
     "data": {
      "text/html": [
       "<div>\n",
       "<style scoped>\n",
       "    .dataframe tbody tr th:only-of-type {\n",
       "        vertical-align: middle;\n",
       "    }\n",
       "\n",
       "    .dataframe tbody tr th {\n",
       "        vertical-align: top;\n",
       "    }\n",
       "\n",
       "    .dataframe thead th {\n",
       "        text-align: right;\n",
       "    }\n",
       "</style>\n",
       "<table border=\"1\" class=\"dataframe\">\n",
       "  <thead>\n",
       "    <tr style=\"text-align: right;\">\n",
       "      <th></th>\n",
       "      <th>Rating</th>\n",
       "      <th>Review</th>\n",
       "      <th>Full Reiview</th>\n",
       "    </tr>\n",
       "  </thead>\n",
       "  <tbody>\n",
       "    <tr>\n",
       "      <th>0</th>\n",
       "      <td>5</td>\n",
       "      <td>Brilliant</td>\n",
       "      <td>The Best Phone for the Money\\n\\nThe iPhone 11 ...</td>\n",
       "    </tr>\n",
       "    <tr>\n",
       "      <th>1</th>\n",
       "      <td>5</td>\n",
       "      <td>Simply awesome</td>\n",
       "      <td>Really satisfied with the Product I received.....</td>\n",
       "    </tr>\n",
       "    <tr>\n",
       "      <th>2</th>\n",
       "      <td>5</td>\n",
       "      <td>Best in the market!</td>\n",
       "      <td>Great iPhone very snappy experience as apple k...</td>\n",
       "    </tr>\n",
       "    <tr>\n",
       "      <th>3</th>\n",
       "      <td>5</td>\n",
       "      <td>Perfect product!</td>\n",
       "      <td>Amazing phone with great cameras and better ba...</td>\n",
       "    </tr>\n",
       "    <tr>\n",
       "      <th>4</th>\n",
       "      <td>5</td>\n",
       "      <td>Worth every penny</td>\n",
       "      <td>Previously I was using one plus 3t it was a gr...</td>\n",
       "    </tr>\n",
       "    <tr>\n",
       "      <th>...</th>\n",
       "      <td>...</td>\n",
       "      <td>...</td>\n",
       "      <td>...</td>\n",
       "    </tr>\n",
       "    <tr>\n",
       "      <th>95</th>\n",
       "      <td>5</td>\n",
       "      <td>Wonderful</td>\n",
       "      <td>I genuinely liked it. One of the best mobile p...</td>\n",
       "    </tr>\n",
       "    <tr>\n",
       "      <th>96</th>\n",
       "      <td>5</td>\n",
       "      <td>Mind-blowing purchase</td>\n",
       "      <td>Flipkart honoured on time delivery, I have use...</td>\n",
       "    </tr>\n",
       "    <tr>\n",
       "      <th>97</th>\n",
       "      <td>5</td>\n",
       "      <td>Good quality product</td>\n",
       "      <td>Awesome camera, smooth and fast UI, display is...</td>\n",
       "    </tr>\n",
       "    <tr>\n",
       "      <th>98</th>\n",
       "      <td>4</td>\n",
       "      <td>Fabulous!</td>\n",
       "      <td>Good product nice experience with Flipkart but...</td>\n",
       "    </tr>\n",
       "    <tr>\n",
       "      <th>99</th>\n",
       "      <td>5</td>\n",
       "      <td>Worth every penny</td>\n",
       "      <td>Here is the thing\\n\\nThe only reason why you s...</td>\n",
       "    </tr>\n",
       "  </tbody>\n",
       "</table>\n",
       "<p>100 rows × 3 columns</p>\n",
       "</div>"
      ],
      "text/plain": [
       "   Rating                 Review  \\\n",
       "0       5              Brilliant   \n",
       "1       5         Simply awesome   \n",
       "2       5    Best in the market!   \n",
       "3       5       Perfect product!   \n",
       "4       5      Worth every penny   \n",
       "..    ...                    ...   \n",
       "95      5              Wonderful   \n",
       "96      5  Mind-blowing purchase   \n",
       "97      5   Good quality product   \n",
       "98      4              Fabulous!   \n",
       "99      5      Worth every penny   \n",
       "\n",
       "                                         Full Reiview  \n",
       "0   The Best Phone for the Money\\n\\nThe iPhone 11 ...  \n",
       "1   Really satisfied with the Product I received.....  \n",
       "2   Great iPhone very snappy experience as apple k...  \n",
       "3   Amazing phone with great cameras and better ba...  \n",
       "4   Previously I was using one plus 3t it was a gr...  \n",
       "..                                                ...  \n",
       "95  I genuinely liked it. One of the best mobile p...  \n",
       "96  Flipkart honoured on time delivery, I have use...  \n",
       "97  Awesome camera, smooth and fast UI, display is...  \n",
       "98  Good product nice experience with Flipkart but...  \n",
       "99  Here is the thing\\n\\nThe only reason why you s...  \n",
       "\n",
       "[100 rows x 3 columns]"
      ]
     },
     "execution_count": 188,
     "metadata": {},
     "output_type": "execute_result"
    }
   ],
   "source": [
    "iphone"
   ]
  },
  {
   "cell_type": "markdown",
   "metadata": {},
   "source": [
    "## Q6: Scrape data for first 100 sneakers you find when you visit flipkart.com and search for “sneakers” in the search field.\n",
    "You have to scrape 4 attributes of each sneaker:\n",
    "1. Brand\n",
    "2. Product Description\n",
    "3. Price"
   ]
  },
  {
   "cell_type": "code",
   "execution_count": 112,
   "metadata": {},
   "outputs": [],
   "source": [
    "driver.get('http://www.flipkart.com/')"
   ]
  },
  {
   "cell_type": "code",
   "execution_count": 113,
   "metadata": {},
   "outputs": [
    {
     "name": "stderr",
     "output_type": "stream",
     "text": [
      "<ipython-input-113-e7c7c19cfcab>:1: DeprecationWarning: find_element_by_* commands are deprecated. Please use find_element() instead\n",
      "  search_sneakers=driver.find_element_by_class_name('_3704LK')\n"
     ]
    }
   ],
   "source": [
    "search_sneakers=driver.find_element_by_class_name('_3704LK')\n",
    "search_sneakers.send_keys(\"sneakers\")"
   ]
  },
  {
   "cell_type": "code",
   "execution_count": 114,
   "metadata": {},
   "outputs": [
    {
     "name": "stderr",
     "output_type": "stream",
     "text": [
      "<ipython-input-114-25c6cba108d4>:1: DeprecationWarning: find_element_by_* commands are deprecated. Please use find_element() instead\n",
      "  search_btnn=driver.find_element_by_xpath(\"//button[@class='L0Z3Pu']\")\n"
     ]
    }
   ],
   "source": [
    "search_btnn=driver.find_element_by_xpath(\"//button[@class='L0Z3Pu']\")\n",
    "search_btnn.click()"
   ]
  },
  {
   "cell_type": "code",
   "execution_count": 123,
   "metadata": {},
   "outputs": [],
   "source": [
    "url=\"https://www.flipkart.com/search?q=sneakers&otracker=search&otracker1=search&marketplace=FLIPKART&as-show=on&as=off\"\n",
    "url1=\"https://www.flipkart.com/search?q=sneakers&otracker=search&otracker1=search&marketplace=FLIPKART&as-show=on&as=off&page=2\""
   ]
  },
  {
   "cell_type": "code",
   "execution_count": 126,
   "metadata": {},
   "outputs": [],
   "source": [
    "driver.get(url)\n",
    "driver.get(url1)"
   ]
  },
  {
   "cell_type": "code",
   "execution_count": 117,
   "metadata": {},
   "outputs": [],
   "source": [
    "Brand=[]\n",
    "Production_Detail=[]\n",
    "Price=[]"
   ]
  },
  {
   "cell_type": "code",
   "execution_count": 127,
   "metadata": {},
   "outputs": [
    {
     "name": "stderr",
     "output_type": "stream",
     "text": [
      "<ipython-input-127-1e1468dd40e1>:1: DeprecationWarning: find_elements_by_* commands are deprecated. Please use find_elements() instead\n",
      "  brand_tagss=driver.find_elements_by_xpath(\"//div[@class='_2WkVRV']\")\n",
      "<ipython-input-127-1e1468dd40e1>:2: DeprecationWarning: find_elements_by_* commands are deprecated. Please use find_elements() instead\n",
      "  product_detailll=driver.find_elements_by_xpath(\"//a[@class='IRpwTa']\")\n",
      "<ipython-input-127-1e1468dd40e1>:3: DeprecationWarning: find_elements_by_* commands are deprecated. Please use find_elements() instead\n",
      "  priceee=driver.find_elements_by_xpath(\"//div[@class='_30jeq3']\")\n"
     ]
    }
   ],
   "source": [
    "brand_tagss=driver.find_elements_by_xpath(\"//div[@class='_2WkVRV']\")\n",
    "product_detailll=driver.find_elements_by_xpath(\"//a[@class='IRpwTa']\")\n",
    "priceee=driver.find_elements_by_xpath(\"//div[@class='_30jeq3']\")"
   ]
  },
  {
   "cell_type": "code",
   "execution_count": 131,
   "metadata": {},
   "outputs": [
    {
     "name": "stdout",
     "output_type": "stream",
     "text": [
      "200 200 169\n"
     ]
    }
   ],
   "source": [
    "for i in brand_tagss:\n",
    "    bd=i.text\n",
    "    Brand.append(bd)\n",
    "for i in product_detailll:\n",
    "    pddd=i.text\n",
    "    Production_Detail.append(pddd)\n",
    "for i in priceee:\n",
    "    rss=i.text\n",
    "    Price.append(rss)\n",
    "print(len(Price),len(Brand),len(Production_Detail))"
   ]
  },
  {
   "cell_type": "code",
   "execution_count": 132,
   "metadata": {},
   "outputs": [],
   "source": [
    "sneakers=pd.DataFrame({})\n",
    "sneakers['Brand']=Brand[:100]\n",
    "sneakers['Production Detail']=Production_Detail[:100]\n",
    "sneakers['Price']=Price[:100]"
   ]
  },
  {
   "cell_type": "code",
   "execution_count": 133,
   "metadata": {},
   "outputs": [
    {
     "data": {
      "text/html": [
       "<div>\n",
       "<style scoped>\n",
       "    .dataframe tbody tr th:only-of-type {\n",
       "        vertical-align: middle;\n",
       "    }\n",
       "\n",
       "    .dataframe tbody tr th {\n",
       "        vertical-align: top;\n",
       "    }\n",
       "\n",
       "    .dataframe thead th {\n",
       "        text-align: right;\n",
       "    }\n",
       "</style>\n",
       "<table border=\"1\" class=\"dataframe\">\n",
       "  <thead>\n",
       "    <tr style=\"text-align: right;\">\n",
       "      <th></th>\n",
       "      <th>Brand</th>\n",
       "      <th>Production Detail</th>\n",
       "      <th>Price</th>\n",
       "    </tr>\n",
       "  </thead>\n",
       "  <tbody>\n",
       "    <tr>\n",
       "      <th>0</th>\n",
       "      <td>Echor</td>\n",
       "      <td>Men's Sneakers Fashion Lightweight Running Sho...</td>\n",
       "      <td>₹499</td>\n",
       "    </tr>\n",
       "    <tr>\n",
       "      <th>1</th>\n",
       "      <td>ASTEROID</td>\n",
       "      <td>Original Luxury Branded Fashionable Men's Casu...</td>\n",
       "      <td>₹474</td>\n",
       "    </tr>\n",
       "    <tr>\n",
       "      <th>2</th>\n",
       "      <td>BRUTON</td>\n",
       "      <td>Modern Trendy Sneakers Shoes Sneakers For Men</td>\n",
       "      <td>₹299</td>\n",
       "    </tr>\n",
       "    <tr>\n",
       "      <th>3</th>\n",
       "      <td>URBANBOX</td>\n",
       "      <td>Sports Running Shoes Sneakers For Men</td>\n",
       "      <td>₹247</td>\n",
       "    </tr>\n",
       "    <tr>\n",
       "      <th>4</th>\n",
       "      <td>BIRDE</td>\n",
       "      <td>Luxury Branded Fashionable Men's Casual Walkin...</td>\n",
       "      <td>₹299</td>\n",
       "    </tr>\n",
       "    <tr>\n",
       "      <th>...</th>\n",
       "      <td>...</td>\n",
       "      <td>...</td>\n",
       "      <td>...</td>\n",
       "    </tr>\n",
       "    <tr>\n",
       "      <th>95</th>\n",
       "      <td>BIRDE</td>\n",
       "      <td>Sneakers for men(black_6) Sneakers For Men</td>\n",
       "      <td>₹535</td>\n",
       "    </tr>\n",
       "    <tr>\n",
       "      <th>96</th>\n",
       "      <td>Trendmode</td>\n",
       "      <td>Casual Sneakers White Shoes For Men Sneakers F...</td>\n",
       "      <td>₹240</td>\n",
       "    </tr>\n",
       "    <tr>\n",
       "      <th>97</th>\n",
       "      <td>CALCADOS</td>\n",
       "      <td>Casual Sneakers Shoes For Men Sneakers For Men</td>\n",
       "      <td>₹899</td>\n",
       "    </tr>\n",
       "    <tr>\n",
       "      <th>98</th>\n",
       "      <td>Labbin</td>\n",
       "      <td>Combo Pack of 5 Casual Sneakers Sneakers For Men</td>\n",
       "      <td>₹474</td>\n",
       "    </tr>\n",
       "    <tr>\n",
       "      <th>99</th>\n",
       "      <td>Wlinzak</td>\n",
       "      <td>SM-322 Sneakers For Men</td>\n",
       "      <td>₹475</td>\n",
       "    </tr>\n",
       "  </tbody>\n",
       "</table>\n",
       "<p>100 rows × 3 columns</p>\n",
       "</div>"
      ],
      "text/plain": [
       "        Brand                                  Production Detail Price\n",
       "0       Echor  Men's Sneakers Fashion Lightweight Running Sho...  ₹499\n",
       "1    ASTEROID  Original Luxury Branded Fashionable Men's Casu...  ₹474\n",
       "2      BRUTON      Modern Trendy Sneakers Shoes Sneakers For Men  ₹299\n",
       "3    URBANBOX              Sports Running Shoes Sneakers For Men  ₹247\n",
       "4       BIRDE  Luxury Branded Fashionable Men's Casual Walkin...  ₹299\n",
       "..        ...                                                ...   ...\n",
       "95      BIRDE         Sneakers for men(black_6) Sneakers For Men  ₹535\n",
       "96  Trendmode  Casual Sneakers White Shoes For Men Sneakers F...  ₹240\n",
       "97   CALCADOS     Casual Sneakers Shoes For Men Sneakers For Men  ₹899\n",
       "98     Labbin   Combo Pack of 5 Casual Sneakers Sneakers For Men  ₹474\n",
       "99    Wlinzak                            SM-322 Sneakers For Men  ₹475\n",
       "\n",
       "[100 rows x 3 columns]"
      ]
     },
     "execution_count": 133,
     "metadata": {},
     "output_type": "execute_result"
    }
   ],
   "source": [
    "sneakers"
   ]
  },
  {
   "cell_type": "markdown",
   "metadata": {},
   "source": [
    "## Q.7 Go to the link - https://www.myntra.com/shoes Set Price filter to “Rs. 6649 to Rs. 13099” , Color filter to “Black”, as shown in the below image.\n",
    "### And then scrape First 100 shoes data you get. The data should include “Brand” of the shoes , Short Shoe description, price of the shoe as shown in the below image."
   ]
  },
  {
   "cell_type": "code",
   "execution_count": 201,
   "metadata": {},
   "outputs": [],
   "source": [
    "driver.get('https://www.myntra.com/shoes')"
   ]
  },
  {
   "cell_type": "code",
   "execution_count": 202,
   "metadata": {},
   "outputs": [],
   "source": [
    "url=\"https://www.myntra.com/shoes?f=Color%3ABlack_36454f&rf=Price%3A6137.0_12025.0_6137.0%20TO%2012025.0\""
   ]
  },
  {
   "cell_type": "code",
   "execution_count": 203,
   "metadata": {},
   "outputs": [],
   "source": [
    "driver.get(url)"
   ]
  },
  {
   "cell_type": "code",
   "execution_count": 193,
   "metadata": {},
   "outputs": [],
   "source": [
    "Brand_shoe=[]\n",
    "Desc_shoe=[]\n",
    "Price_shoe=[]"
   ]
  },
  {
   "cell_type": "code",
   "execution_count": 204,
   "metadata": {},
   "outputs": [
    {
     "name": "stderr",
     "output_type": "stream",
     "text": [
      "<ipython-input-204-c9d44517dce3>:1: DeprecationWarning: find_elements_by_* commands are deprecated. Please use find_elements() instead\n",
      "  brand_shoe=driver.find_elements_by_xpath(\"//h3[@class='product-brand']\")\n",
      "<ipython-input-204-c9d44517dce3>:2: DeprecationWarning: find_elements_by_* commands are deprecated. Please use find_elements() instead\n",
      "  shoe_detail=driver.find_elements_by_xpath(\"//h4[@class='product-product']\")\n",
      "<ipython-input-204-c9d44517dce3>:3: DeprecationWarning: find_elements_by_* commands are deprecated. Please use find_elements() instead\n",
      "  shoe_price=driver.find_elements_by_xpath(\"//div[@class='product-price']\")\n"
     ]
    }
   ],
   "source": [
    "brand_shoe=driver.find_elements_by_xpath(\"//h3[@class='product-brand']\")\n",
    "shoe_detail=driver.find_elements_by_xpath(\"//h4[@class='product-product']\")\n",
    "shoe_price=driver.find_elements_by_xpath(\"//div[@class='product-price']\")"
   ]
  },
  {
   "cell_type": "code",
   "execution_count": 206,
   "metadata": {},
   "outputs": [],
   "source": [
    "for i in brand_shoe:\n",
    "    bd=i.text\n",
    "    Brand_shoe.append(bd)\n",
    "for i in shoe_detail:\n",
    "    pddd=i.text\n",
    "    Desc_shoe.append(pddd)\n",
    "for i in shoe_price:\n",
    "    rss=i.text\n",
    "    Price_shoe.append(rss)"
   ]
  },
  {
   "cell_type": "code",
   "execution_count": 207,
   "metadata": {},
   "outputs": [
    {
     "name": "stdout",
     "output_type": "stream",
     "text": [
      "176 200 200\n"
     ]
    }
   ],
   "source": [
    "print(len(Price_shoe),len(Brand_shoe),len(Desc_shoe))"
   ]
  },
  {
   "cell_type": "code",
   "execution_count": 216,
   "metadata": {},
   "outputs": [
    {
     "data": {
      "text/html": [
       "<div>\n",
       "<style scoped>\n",
       "    .dataframe tbody tr th:only-of-type {\n",
       "        vertical-align: middle;\n",
       "    }\n",
       "\n",
       "    .dataframe tbody tr th {\n",
       "        vertical-align: top;\n",
       "    }\n",
       "\n",
       "    .dataframe thead th {\n",
       "        text-align: right;\n",
       "    }\n",
       "</style>\n",
       "<table border=\"1\" class=\"dataframe\">\n",
       "  <thead>\n",
       "    <tr style=\"text-align: right;\">\n",
       "      <th></th>\n",
       "      <th>Brand</th>\n",
       "      <th>Detail</th>\n",
       "      <th>Price</th>\n",
       "    </tr>\n",
       "  </thead>\n",
       "  <tbody>\n",
       "    <tr>\n",
       "      <th>0</th>\n",
       "      <td>ASICS</td>\n",
       "      <td>Men GEL-KAYANO 27 Shoes</td>\n",
       "      <td>Rs. 10499</td>\n",
       "    </tr>\n",
       "    <tr>\n",
       "      <th>1</th>\n",
       "      <td>Puma</td>\n",
       "      <td>Men Running Shoes</td>\n",
       "      <td>Rs. 6499</td>\n",
       "    </tr>\n",
       "    <tr>\n",
       "      <th>2</th>\n",
       "      <td>Puma</td>\n",
       "      <td>Men Deviate Nitro Running Shoe</td>\n",
       "      <td>Rs. 8249</td>\n",
       "    </tr>\n",
       "    <tr>\n",
       "      <th>3</th>\n",
       "      <td>Hush Puppies</td>\n",
       "      <td>Men Leather Slip-On Sneakers</td>\n",
       "      <td>Rs. 6299</td>\n",
       "    </tr>\n",
       "    <tr>\n",
       "      <th>4</th>\n",
       "      <td>Puma</td>\n",
       "      <td>Women Eternity NITRO Shoes</td>\n",
       "      <td>Rs. 6499</td>\n",
       "    </tr>\n",
       "    <tr>\n",
       "      <th>...</th>\n",
       "      <td>...</td>\n",
       "      <td>...</td>\n",
       "      <td>...</td>\n",
       "    </tr>\n",
       "    <tr>\n",
       "      <th>95</th>\n",
       "      <td>Ruosh</td>\n",
       "      <td>Men Solid Leather Formal Monks</td>\n",
       "      <td>Rs. 8999Rs. 9999(10% OFF)</td>\n",
       "    </tr>\n",
       "    <tr>\n",
       "      <th>96</th>\n",
       "      <td>J.FONTINI</td>\n",
       "      <td>Men Solid Leather Formal Derbys</td>\n",
       "      <td>Rs. 7999Rs. 9999(20% OFF)</td>\n",
       "    </tr>\n",
       "    <tr>\n",
       "      <th>97</th>\n",
       "      <td>Saint G</td>\n",
       "      <td>Leather Boots with Buckles</td>\n",
       "      <td>Rs. 6990</td>\n",
       "    </tr>\n",
       "    <tr>\n",
       "      <th>98</th>\n",
       "      <td>UNDER ARMOUR</td>\n",
       "      <td>Women Charged Impulse Shft</td>\n",
       "      <td>Rs. 8999Rs. 9999(10% OFF)</td>\n",
       "    </tr>\n",
       "    <tr>\n",
       "      <th>99</th>\n",
       "      <td>Heel &amp; Buckle London</td>\n",
       "      <td>Leather Block Gladiators</td>\n",
       "      <td>Rs. 11999</td>\n",
       "    </tr>\n",
       "  </tbody>\n",
       "</table>\n",
       "<p>100 rows × 3 columns</p>\n",
       "</div>"
      ],
      "text/plain": [
       "                   Brand                           Detail  \\\n",
       "0                  ASICS          Men GEL-KAYANO 27 Shoes   \n",
       "1                   Puma                Men Running Shoes   \n",
       "2                   Puma   Men Deviate Nitro Running Shoe   \n",
       "3           Hush Puppies     Men Leather Slip-On Sneakers   \n",
       "4                   Puma       Women Eternity NITRO Shoes   \n",
       "..                   ...                              ...   \n",
       "95                 Ruosh   Men Solid Leather Formal Monks   \n",
       "96             J.FONTINI  Men Solid Leather Formal Derbys   \n",
       "97               Saint G       Leather Boots with Buckles   \n",
       "98          UNDER ARMOUR       Women Charged Impulse Shft   \n",
       "99  Heel & Buckle London         Leather Block Gladiators   \n",
       "\n",
       "                        Price  \n",
       "0                   Rs. 10499  \n",
       "1                    Rs. 6499  \n",
       "2                    Rs. 8249  \n",
       "3                    Rs. 6299  \n",
       "4                    Rs. 6499  \n",
       "..                        ...  \n",
       "95  Rs. 8999Rs. 9999(10% OFF)  \n",
       "96  Rs. 7999Rs. 9999(20% OFF)  \n",
       "97                   Rs. 6990  \n",
       "98  Rs. 8999Rs. 9999(10% OFF)  \n",
       "99                  Rs. 11999  \n",
       "\n",
       "[100 rows x 3 columns]"
      ]
     },
     "execution_count": 216,
     "metadata": {},
     "output_type": "execute_result"
    }
   ],
   "source": [
    "shoe=pd.DataFrame({})\n",
    "shoe['Brand']=Brand_shoe[:100]\n",
    "shoe['Detail']=Desc_shoe[:100]\n",
    "shoe['Price']=Price_shoe[:100]\n",
    "shoe"
   ]
  },
  {
   "cell_type": "markdown",
   "metadata": {},
   "source": [
    "## Q8: Go to webpage https://www.amazon.in/\n",
    "Enter “Laptop” in the search field and then click the search icon.\n",
    "Then set CPU Type filter to “Intel Core i7” and “Intel Core i9”\n",
    "After setting the filters scrape first 10 laptops data. You have to scrape 3 attributes for each laptop:\n",
    "1. Title\n",
    "2. Ratings\n",
    "3. Price"
   ]
  },
  {
   "cell_type": "code",
   "execution_count": 233,
   "metadata": {},
   "outputs": [],
   "source": [
    "driver.get('https://www.amazon.in/')"
   ]
  },
  {
   "cell_type": "code",
   "execution_count": 234,
   "metadata": {},
   "outputs": [
    {
     "name": "stderr",
     "output_type": "stream",
     "text": [
      "<ipython-input-234-4e1d35b88ceb>:1: DeprecationWarning: find_element_by_* commands are deprecated. Please use find_element() instead\n",
      "  search_laptop=driver.find_element_by_id('twotabsearchtextbox')\n"
     ]
    }
   ],
   "source": [
    "search_laptop=driver.find_element_by_id('twotabsearchtextbox')\n",
    "search_laptop.send_keys(\"Laptop\")"
   ]
  },
  {
   "cell_type": "code",
   "execution_count": 235,
   "metadata": {},
   "outputs": [
    {
     "name": "stderr",
     "output_type": "stream",
     "text": [
      "<ipython-input-235-d0c4f69c9c56>:1: DeprecationWarning: find_element_by_* commands are deprecated. Please use find_element() instead\n",
      "  search_btn=driver.find_element_by_id(\"nav-search-submit-button\")\n"
     ]
    }
   ],
   "source": [
    "search_btn=driver.find_element_by_id(\"nav-search-submit-button\")\n",
    "search_btn.click()"
   ]
  },
  {
   "cell_type": "code",
   "execution_count": 236,
   "metadata": {},
   "outputs": [],
   "source": [
    "url=\"https://www.amazon.in/s?k=Laptop&rh=n%3A1375424031%2Cp_n_feature_thirteen_browse-bin%3A12598163031&dc&crid=H1J6TTMT0LS3&qid=1639840401&rnid=12598141031&sprefix=laptop%2Caps%2C1491&ref=sr_nr_p_n_feature_thirteen_browse-bin_11\""
   ]
  },
  {
   "cell_type": "code",
   "execution_count": 237,
   "metadata": {},
   "outputs": [],
   "source": [
    "driver.get(url)"
   ]
  },
  {
   "cell_type": "code",
   "execution_count": 225,
   "metadata": {},
   "outputs": [],
   "source": [
    "title=[]\n",
    "Rating=[]\n",
    "Price=[]"
   ]
  },
  {
   "cell_type": "code",
   "execution_count": 252,
   "metadata": {},
   "outputs": [
    {
     "name": "stderr",
     "output_type": "stream",
     "text": [
      "<ipython-input-252-9bacbbf064f6>:1: DeprecationWarning: find_elements_by_* commands are deprecated. Please use find_elements() instead\n",
      "  title_tags=driver.find_elements_by_xpath(\"//span[@class='a-size-medium a-color-base a-text-normal']\")\n",
      "<ipython-input-252-9bacbbf064f6>:2: DeprecationWarning: find_elements_by_* commands are deprecated. Please use find_elements() instead\n",
      "  Rating_tags=driver.find_elements_by_xpath(\"//span[@class='a-icon-alt']\")\n",
      "<ipython-input-252-9bacbbf064f6>:3: DeprecationWarning: find_elements_by_* commands are deprecated. Please use find_elements() instead\n",
      "  price_tags=driver.find_elements_by_xpath(\"//span[@class='a-price-whole']\")\n"
     ]
    }
   ],
   "source": [
    "title_tags=driver.find_elements_by_xpath(\"//span[@class='a-size-medium a-color-base a-text-normal']\")\n",
    "Rating_tags=driver.find_elements_by_xpath(\"//span[@class='a-icon-alt']\")\n",
    "price_tags=driver.find_elements_by_xpath(\"//span[@class='a-price-whole']\")"
   ]
  },
  {
   "cell_type": "code",
   "execution_count": 253,
   "metadata": {},
   "outputs": [],
   "source": [
    "for i in title_tags:\n",
    "    tt=i.text\n",
    "    title.append(tt)\n",
    "for i in Rating_tags:\n",
    "    rt=i.text\n",
    "    Rating.append(rt)\n",
    "for i in price_tags:\n",
    "    pt=i.text\n",
    "    Price.append(pt)"
   ]
  },
  {
   "cell_type": "code",
   "execution_count": 248,
   "metadata": {},
   "outputs": [
    {
     "name": "stdout",
     "output_type": "stream",
     "text": [
      "112 55 100\n"
     ]
    }
   ],
   "source": [
    "print(len(title),len(Rating),len(Price))"
   ]
  },
  {
   "cell_type": "code",
   "execution_count": 254,
   "metadata": {},
   "outputs": [
    {
     "data": {
      "text/html": [
       "<div>\n",
       "<style scoped>\n",
       "    .dataframe tbody tr th:only-of-type {\n",
       "        vertical-align: middle;\n",
       "    }\n",
       "\n",
       "    .dataframe tbody tr th {\n",
       "        vertical-align: top;\n",
       "    }\n",
       "\n",
       "    .dataframe thead th {\n",
       "        text-align: right;\n",
       "    }\n",
       "</style>\n",
       "<table border=\"1\" class=\"dataframe\">\n",
       "  <thead>\n",
       "    <tr style=\"text-align: right;\">\n",
       "      <th></th>\n",
       "      <th>Title</th>\n",
       "      <th>Rating</th>\n",
       "      <th>Price</th>\n",
       "    </tr>\n",
       "  </thead>\n",
       "  <tbody>\n",
       "    <tr>\n",
       "      <th>0</th>\n",
       "      <td>ASUS TUF Gaming F15 (2021), 15.6\" (39.62 cms) ...</td>\n",
       "      <td></td>\n",
       "      <td>1,52,890</td>\n",
       "    </tr>\n",
       "    <tr>\n",
       "      <th>1</th>\n",
       "      <td>ASUS ROG G703GI-E5148T 17.3\" (43.94 cms) FHD 1...</td>\n",
       "      <td></td>\n",
       "      <td>5,40,951</td>\n",
       "    </tr>\n",
       "    <tr>\n",
       "      <th>2</th>\n",
       "      <td>ASUS TUF Gaming F15 (2021), 15.6-inch (39.62 c...</td>\n",
       "      <td></td>\n",
       "      <td>1,48,990</td>\n",
       "    </tr>\n",
       "    <tr>\n",
       "      <th>3</th>\n",
       "      <td>ASUS ROG Strix Scar III G531GW 15.6\" FHD 240Hz...</td>\n",
       "      <td></td>\n",
       "      <td>2,65,999</td>\n",
       "    </tr>\n",
       "    <tr>\n",
       "      <th>4</th>\n",
       "      <td>Lenovo Legion 7 10th Gen Intel Core i9 15.6 in...</td>\n",
       "      <td></td>\n",
       "      <td>2,25,000</td>\n",
       "    </tr>\n",
       "    <tr>\n",
       "      <th>5</th>\n",
       "      <td>(Renewed) Dell G7 7500 15.6inch FHD 300 Hz Dis...</td>\n",
       "      <td></td>\n",
       "      <td>2,01,900</td>\n",
       "    </tr>\n",
       "    <tr>\n",
       "      <th>6</th>\n",
       "      <td>Dell XPS 7590 39.62 cm (15.6-inch) UHD Display...</td>\n",
       "      <td></td>\n",
       "      <td>3,75,000</td>\n",
       "    </tr>\n",
       "    <tr>\n",
       "      <th>7</th>\n",
       "      <td>Dell XPS 17 (2021) i9-11900H Touch Screen Lapt...</td>\n",
       "      <td></td>\n",
       "      <td>2,45,000</td>\n",
       "    </tr>\n",
       "    <tr>\n",
       "      <th>8</th>\n",
       "      <td>HP ZBOOK Power G8/ Intel core i9-11900H 8 Core...</td>\n",
       "      <td></td>\n",
       "      <td>2,07,990</td>\n",
       "    </tr>\n",
       "    <tr>\n",
       "      <th>9</th>\n",
       "      <td>Dell G7 7500 15.6inch FHD 300 Hz Display Gamin...</td>\n",
       "      <td></td>\n",
       "      <td>2,39,000</td>\n",
       "    </tr>\n",
       "  </tbody>\n",
       "</table>\n",
       "</div>"
      ],
      "text/plain": [
       "                                               Title Rating     Price\n",
       "0  ASUS TUF Gaming F15 (2021), 15.6\" (39.62 cms) ...         1,52,890\n",
       "1  ASUS ROG G703GI-E5148T 17.3\" (43.94 cms) FHD 1...         5,40,951\n",
       "2  ASUS TUF Gaming F15 (2021), 15.6-inch (39.62 c...         1,48,990\n",
       "3  ASUS ROG Strix Scar III G531GW 15.6\" FHD 240Hz...         2,65,999\n",
       "4  Lenovo Legion 7 10th Gen Intel Core i9 15.6 in...         2,25,000\n",
       "5  (Renewed) Dell G7 7500 15.6inch FHD 300 Hz Dis...         2,01,900\n",
       "6  Dell XPS 7590 39.62 cm (15.6-inch) UHD Display...         3,75,000\n",
       "7  Dell XPS 17 (2021) i9-11900H Touch Screen Lapt...         2,45,000\n",
       "8  HP ZBOOK Power G8/ Intel core i9-11900H 8 Core...         2,07,990\n",
       "9  Dell G7 7500 15.6inch FHD 300 Hz Display Gamin...         2,39,000"
      ]
     },
     "execution_count": 254,
     "metadata": {},
     "output_type": "execute_result"
    }
   ],
   "source": [
    "laptop=pd.DataFrame({})\n",
    "laptop['Title']=title[:10]\n",
    "laptop['Rating']=Rating[:10]\n",
    "laptop['Price']=Price[:10]\n",
    "laptop"
   ]
  },
  {
   "cell_type": "markdown",
   "metadata": {},
   "source": [
    "## Q9: Write a python program to scrape data for first 10 job results for Data Scientist Designation in Noida location. You have to scrape company name, No. of days ago when job was posted, Rating of the company.\n",
    "- This task will be done in following steps:\n",
    "1. First get the webpage https://www.ambitionbox.com/\n",
    "2. Click on the Job option as shown in the image\n",
    "3. After reaching to the next webpage, In place of “Search by Designations, Companies, Skills” enter\n",
    "“Data Scientist” and click on search button.\n",
    "4. You will reach to the following web page click on location and in place of “Search location” enter\n",
    "“Noida” and select location “Noida”.\n",
    "5. Then scrape the data for the first 10 jobs results you get on the above shown page.\n",
    "6. Finally create a dataframe of the scraped data."
   ]
  },
  {
   "cell_type": "code",
   "execution_count": 261,
   "metadata": {},
   "outputs": [],
   "source": [
    "driver.get('https://www.ambitionbox.com/jobs')"
   ]
  },
  {
   "cell_type": "code",
   "execution_count": 263,
   "metadata": {},
   "outputs": [
    {
     "name": "stderr",
     "output_type": "stream",
     "text": [
      "<ipython-input-263-8f9927f07229>:1: DeprecationWarning: find_element_by_* commands are deprecated. Please use find_element() instead\n",
      "  search_jobb=driver.find_element_by_name('ab_jobsSearch')\n"
     ]
    }
   ],
   "source": [
    "search_jobb=driver.find_element_by_name('ab_jobsSearch')\n",
    "search_jobb.send_keys(\"Data Scientist\")\n"
   ]
  },
  {
   "cell_type": "code",
   "execution_count": 264,
   "metadata": {},
   "outputs": [
    {
     "name": "stderr",
     "output_type": "stream",
     "text": [
      "<ipython-input-264-198e795d2968>:1: DeprecationWarning: find_element_by_* commands are deprecated. Please use find_element() instead\n",
      "  search_btn=driver.find_element_by_xpath(\"//button[@class='ab_btn search-btn round']\")\n"
     ]
    }
   ],
   "source": [
    "search_btn=driver.find_element_by_xpath(\"//button[@class='ab_btn search-btn round']\")\n",
    "search_btn.click()"
   ]
  },
  {
   "cell_type": "code",
   "execution_count": 265,
   "metadata": {},
   "outputs": [],
   "source": [
    "url=\"https://www.ambitionbox.com/jobs/search?tag=Data%20Scientist&location=Noida\""
   ]
  },
  {
   "cell_type": "code",
   "execution_count": 266,
   "metadata": {},
   "outputs": [],
   "source": [
    "driver.get(url)"
   ]
  },
  {
   "cell_type": "code",
   "execution_count": 267,
   "metadata": {},
   "outputs": [],
   "source": [
    "# solet's extract all the tags having the job_titles\n",
    "job_title=[]\n",
    "company_names=[]\n",
    "experience_list=[]"
   ]
  },
  {
   "cell_type": "code",
   "execution_count": 272,
   "metadata": {},
   "outputs": [
    {
     "name": "stderr",
     "output_type": "stream",
     "text": [
      "<ipython-input-272-f3772307887a>:1: DeprecationWarning: find_elements_by_* commands are deprecated. Please use find_elements() instead\n",
      "  job_titles=driver.find_elements_by_xpath(\"//a[@class='title noclick']\")\n",
      "<ipython-input-272-f3772307887a>:2: DeprecationWarning: find_elements_by_* commands are deprecated. Please use find_elements() instead\n",
      "  comapny_name=driver.find_elements_by_xpath(\"//p[@class='company body-medium']\")\n",
      "<ipython-input-272-f3772307887a>:3: DeprecationWarning: find_elements_by_* commands are deprecated. Please use find_elements() instead\n",
      "  experience=driver.find_elements_by_xpath(\"//p[@class='body-small-l']\")\n"
     ]
    }
   ],
   "source": [
    "job_titles=driver.find_elements_by_xpath(\"//a[@class='title noclick']\")\n",
    "comapny_name=driver.find_elements_by_xpath(\"//p[@class='company body-medium']\")\n",
    "experience=driver.find_elements_by_xpath(\"//p[@class='body-small-l']\")"
   ]
  },
  {
   "cell_type": "code",
   "execution_count": 273,
   "metadata": {},
   "outputs": [
    {
     "data": {
      "text/html": [
       "<div>\n",
       "<style scoped>\n",
       "    .dataframe tbody tr th:only-of-type {\n",
       "        vertical-align: middle;\n",
       "    }\n",
       "\n",
       "    .dataframe tbody tr th {\n",
       "        vertical-align: top;\n",
       "    }\n",
       "\n",
       "    .dataframe thead th {\n",
       "        text-align: right;\n",
       "    }\n",
       "</style>\n",
       "<table border=\"1\" class=\"dataframe\">\n",
       "  <thead>\n",
       "    <tr style=\"text-align: right;\">\n",
       "      <th></th>\n",
       "      <th>Job_Title</th>\n",
       "      <th>Company Name</th>\n",
       "      <th>Exp.</th>\n",
       "    </tr>\n",
       "  </thead>\n",
       "  <tbody>\n",
       "    <tr>\n",
       "      <th>0</th>\n",
       "      <td>Data Scientist</td>\n",
       "      <td>LG Electronics India Pvt. Ltd.</td>\n",
       "      <td>0-2 years</td>\n",
       "    </tr>\n",
       "    <tr>\n",
       "      <th>1</th>\n",
       "      <td>Data Scientist</td>\n",
       "      <td>LG Electronics India Pvt. Ltd.</td>\n",
       "      <td>Not Disclosed</td>\n",
       "    </tr>\n",
       "    <tr>\n",
       "      <th>2</th>\n",
       "      <td>Data Scientist</td>\n",
       "      <td>LG Electronics India Pvt. Ltd.</td>\n",
       "      <td>Faridabad, Delhi NCR, New Delhi + 2 more</td>\n",
       "    </tr>\n",
       "    <tr>\n",
       "      <th>3</th>\n",
       "      <td>Data Scientist</td>\n",
       "      <td>LG Electronics India Pvt. Ltd.</td>\n",
       "      <td>1 vacancy</td>\n",
       "    </tr>\n",
       "    <tr>\n",
       "      <th>4</th>\n",
       "      <td>Manager - Data Scientist</td>\n",
       "      <td>GENPACT India Private Limited</td>\n",
       "      <td>0-2 Yrs</td>\n",
       "    </tr>\n",
       "    <tr>\n",
       "      <th>5</th>\n",
       "      <td>Manager - Data Scientist</td>\n",
       "      <td>GENPACT India Private Limited</td>\n",
       "      <td>Not Disclosed</td>\n",
       "    </tr>\n",
       "    <tr>\n",
       "      <th>6</th>\n",
       "      <td>NTT DATA_ Hiring For BIG DATA ,DATA Scientist,...</td>\n",
       "      <td>NTT Data Business Solutions Pvt Ltd</td>\n",
       "      <td>Faridabad, Delhi NCR, New Delhi +2 more</td>\n",
       "    </tr>\n",
       "    <tr>\n",
       "      <th>7</th>\n",
       "      <td>Assistant Manager - Data Scientist</td>\n",
       "      <td>GENPACT India Private Limited</td>\n",
       "      <td>Python, Deep Learning, NLP +6 more</td>\n",
       "    </tr>\n",
       "    <tr>\n",
       "      <th>8</th>\n",
       "      <td>Data Science - Senior Data Scientist</td>\n",
       "      <td>Paytm</td>\n",
       "      <td>5-10 Yrs</td>\n",
       "    </tr>\n",
       "    <tr>\n",
       "      <th>9</th>\n",
       "      <td>Data Scientist - Consulting Firm (8-15 yrs)</td>\n",
       "      <td>GI Group</td>\n",
       "      <td>Not Disclosed</td>\n",
       "    </tr>\n",
       "  </tbody>\n",
       "</table>\n",
       "</div>"
      ],
      "text/plain": [
       "                                           Job_Title  \\\n",
       "0                                     Data Scientist   \n",
       "1                                     Data Scientist   \n",
       "2                                     Data Scientist   \n",
       "3                                     Data Scientist   \n",
       "4                           Manager - Data Scientist   \n",
       "5                           Manager - Data Scientist   \n",
       "6  NTT DATA_ Hiring For BIG DATA ,DATA Scientist,...   \n",
       "7                 Assistant Manager - Data Scientist   \n",
       "8               Data Science - Senior Data Scientist   \n",
       "9        Data Scientist - Consulting Firm (8-15 yrs)   \n",
       "\n",
       "                          Company Name  \\\n",
       "0       LG Electronics India Pvt. Ltd.   \n",
       "1       LG Electronics India Pvt. Ltd.   \n",
       "2       LG Electronics India Pvt. Ltd.   \n",
       "3       LG Electronics India Pvt. Ltd.   \n",
       "4        GENPACT India Private Limited   \n",
       "5        GENPACT India Private Limited   \n",
       "6  NTT Data Business Solutions Pvt Ltd   \n",
       "7        GENPACT India Private Limited   \n",
       "8                                Paytm   \n",
       "9                             GI Group   \n",
       "\n",
       "                                       Exp.  \n",
       "0                                 0-2 years  \n",
       "1                             Not Disclosed  \n",
       "2  Faridabad, Delhi NCR, New Delhi + 2 more  \n",
       "3                                 1 vacancy  \n",
       "4                                   0-2 Yrs  \n",
       "5                             Not Disclosed  \n",
       "6   Faridabad, Delhi NCR, New Delhi +2 more  \n",
       "7        Python, Deep Learning, NLP +6 more  \n",
       "8                                  5-10 Yrs  \n",
       "9                             Not Disclosed  "
      ]
     },
     "execution_count": 273,
     "metadata": {},
     "output_type": "execute_result"
    }
   ],
   "source": [
    "# Now the text of the job title is inside the tags extracted above\n",
    "# so we will run a loop to iterate over the tags extracted above and extracted the detail\n",
    "for i in job_titles:\n",
    "    title=i.text\n",
    "    job_title.append(title)\n",
    "for i in comapny_name:\n",
    "    name=i.text\n",
    "    company_names.append(name)\n",
    "for i in experience:\n",
    "    ex=i.text\n",
    "    experience_list.append(ex)\n",
    "job=pd.DataFrame({})\n",
    "job['Job_Title']=job_title[:10]\n",
    "job['Company Name']=company_names[:10]\n",
    "job['Exp.']=experience_list[:10]\n",
    "job"
   ]
  },
  {
   "cell_type": "markdown",
   "metadata": {},
   "source": [
    "## Q10: Write a python program to scrape the salary data for Data Scientist designation.\n",
    "- You have to scrape Company name, Number of salaries, Average salary, Min salary, Max Salary.\n",
    "- The above task will be, done as shown in the below steps:\n",
    "1. First get the webpage https://www.ambitionbox.com/\n",
    "2. Click on the salaries option as shown in the image.\n",
    "4. Scrape the data for the first 10 companies. Scrape the company name, total salary record, average salary, minimum salary, maximum salary, experience required.\n",
    "5. Store the data in a dataframe."
   ]
  },
  {
   "cell_type": "code",
   "execution_count": 274,
   "metadata": {},
   "outputs": [],
   "source": [
    "driver.get('https://www.ambitionbox.com/salaries')"
   ]
  },
  {
   "cell_type": "code",
   "execution_count": 275,
   "metadata": {},
   "outputs": [],
   "source": [
    "company_name=[]\n",
    "no_of_salaries=[]\n",
    "avg_sal=[]\n",
    "min_sal=[]\n",
    "max_sal=[]"
   ]
  },
  {
   "cell_type": "code",
   "execution_count": 289,
   "metadata": {},
   "outputs": [
    {
     "name": "stderr",
     "output_type": "stream",
     "text": [
      "<ipython-input-289-2d3ae39110bc>:1: DeprecationWarning: find_elements_by_* commands are deprecated. Please use find_elements() instead\n",
      "  cm=driver.find_elements_by_xpath(\"//div[@class='company-info']/a\")\n",
      "<ipython-input-289-2d3ae39110bc>:2: DeprecationWarning: find_elements_by_* commands are deprecated. Please use find_elements() instead\n",
      "  ns=driver.find_elements_by_xpath(\"//div[@class='name']/span\")\n",
      "<ipython-input-289-2d3ae39110bc>:3: DeprecationWarning: find_elements_by_* commands are deprecated. Please use find_elements() instead\n",
      "  ms=driver.find_elements_by_xpath(\"//div[@class='value body-medium']\")\n",
      "<ipython-input-289-2d3ae39110bc>:4: DeprecationWarning: find_elements_by_* commands are deprecated. Please use find_elements() instead\n",
      "  avgs=driver.find_elements_by_xpath(\"//p[@class='averageCtc']\")\n",
      "<ipython-input-289-2d3ae39110bc>:5: DeprecationWarning: find_elements_by_* commands are deprecated. Please use find_elements() instead\n",
      "  maxs=driver.find_elements_by_xpath(\"//div[@class='value body-medium']\")\n"
     ]
    }
   ],
   "source": [
    "cm=driver.find_elements_by_xpath(\"//div[@class='company-info']/a\")\n",
    "ns=driver.find_elements_by_xpath(\"//div[@class='name']/span\")\n",
    "ms=driver.find_elements_by_xpath(\"//div[@class='value body-medium']\")\n",
    "avgs=driver.find_elements_by_xpath(\"//p[@class='averageCtc']\")\n",
    "maxs=driver.find_elements_by_xpath(\"//div[@class='value body-medium']\")"
   ]
  },
  {
   "cell_type": "code",
   "execution_count": 290,
   "metadata": {},
   "outputs": [],
   "source": [
    "for i in cm:\n",
    "    cm1=i.text\n",
    "    comapny_name.append(cm1)\n",
    "for i in ns:\n",
    "    ns1=i.text\n",
    "    no_of_salaries.append(ns1)\n",
    "for i in ms:\n",
    "    ms1=i.text\n",
    "    min_sal.append(ms1)\n",
    "for i in avgs:\n",
    "    avgs1=i.text\n",
    "    avg_sal.append(avgs1)\n",
    "for i in maxs:\n",
    "    max1=i.text\n",
    "    max_sal.append(max1)\n",
    "    "
   ]
  },
  {
   "cell_type": "code",
   "execution_count": 291,
   "metadata": {},
   "outputs": [
    {
     "data": {
      "text/html": [
       "<div>\n",
       "<style scoped>\n",
       "    .dataframe tbody tr th:only-of-type {\n",
       "        vertical-align: middle;\n",
       "    }\n",
       "\n",
       "    .dataframe tbody tr th {\n",
       "        vertical-align: top;\n",
       "    }\n",
       "\n",
       "    .dataframe thead th {\n",
       "        text-align: right;\n",
       "    }\n",
       "</style>\n",
       "<table border=\"1\" class=\"dataframe\">\n",
       "  <thead>\n",
       "    <tr style=\"text-align: right;\">\n",
       "      <th></th>\n",
       "      <th>Company Name</th>\n",
       "      <th>based on salary</th>\n",
       "      <th>Average</th>\n",
       "      <th>Minimum Salary</th>\n",
       "      <th>Maximum Salary</th>\n",
       "    </tr>\n",
       "  </thead>\n",
       "  <tbody>\n",
       "    <tr>\n",
       "      <th>0</th>\n",
       "      <td>NaN</td>\n",
       "      <td>based on 10 salaries</td>\n",
       "      <td>₹ 23.3L</td>\n",
       "      <td>₹ 14.0L</td>\n",
       "      <td>₹ 14.0L</td>\n",
       "    </tr>\n",
       "    <tr>\n",
       "      <th>1</th>\n",
       "      <td>NaN</td>\n",
       "      <td>based on 218 salaries</td>\n",
       "      <td>₹ 22.4L</td>\n",
       "      <td>₹ 32.0L</td>\n",
       "      <td>₹ 32.0L</td>\n",
       "    </tr>\n",
       "    <tr>\n",
       "      <th>2</th>\n",
       "      <td>NaN</td>\n",
       "      <td>based on 11 salaries</td>\n",
       "      <td>₹ 21.9L</td>\n",
       "      <td>₹ 12.0L</td>\n",
       "      <td>₹ 12.0L</td>\n",
       "    </tr>\n",
       "    <tr>\n",
       "      <th>3</th>\n",
       "      <td>NaN</td>\n",
       "      <td>based on 53 salaries</td>\n",
       "      <td>₹ 20.6L</td>\n",
       "      <td>₹ 45.0L</td>\n",
       "      <td>₹ 45.0L</td>\n",
       "    </tr>\n",
       "    <tr>\n",
       "      <th>4</th>\n",
       "      <td>NaN</td>\n",
       "      <td>based on 80 salaries</td>\n",
       "      <td>₹ 19.1L</td>\n",
       "      <td>₹ 16.0L</td>\n",
       "      <td>₹ 16.0L</td>\n",
       "    </tr>\n",
       "    <tr>\n",
       "      <th>5</th>\n",
       "      <td>NaN</td>\n",
       "      <td>based on 35 salaries</td>\n",
       "      <td>₹ 18.4L</td>\n",
       "      <td>₹ 30.0L</td>\n",
       "      <td>₹ 30.0L</td>\n",
       "    </tr>\n",
       "    <tr>\n",
       "      <th>6</th>\n",
       "      <td>NaN</td>\n",
       "      <td>based on 27 salaries</td>\n",
       "      <td>₹ 18.2L</td>\n",
       "      <td>₹ 7.0L</td>\n",
       "      <td>₹ 7.0L</td>\n",
       "    </tr>\n",
       "    <tr>\n",
       "      <th>7</th>\n",
       "      <td>NaN</td>\n",
       "      <td>based on 15 salaries</td>\n",
       "      <td>₹ 18.2L</td>\n",
       "      <td>₹ 30.0L</td>\n",
       "      <td>₹ 30.0L</td>\n",
       "    </tr>\n",
       "    <tr>\n",
       "      <th>8</th>\n",
       "      <td>NaN</td>\n",
       "      <td>based on 77 salaries</td>\n",
       "      <td>₹ 17.9L</td>\n",
       "      <td>₹ 8.0L</td>\n",
       "      <td>₹ 8.0L</td>\n",
       "    </tr>\n",
       "    <tr>\n",
       "      <th>9</th>\n",
       "      <td>NaN</td>\n",
       "      <td>based on 12 salaries</td>\n",
       "      <td>₹ 17.6L</td>\n",
       "      <td>₹ 40.0L</td>\n",
       "      <td>₹ 40.0L</td>\n",
       "    </tr>\n",
       "  </tbody>\n",
       "</table>\n",
       "</div>"
      ],
      "text/plain": [
       "   Company Name        based on salary  Average Minimum Salary Maximum Salary\n",
       "0           NaN   based on 10 salaries  ₹ 23.3L        ₹ 14.0L        ₹ 14.0L\n",
       "1           NaN  based on 218 salaries  ₹ 22.4L        ₹ 32.0L        ₹ 32.0L\n",
       "2           NaN   based on 11 salaries  ₹ 21.9L        ₹ 12.0L        ₹ 12.0L\n",
       "3           NaN   based on 53 salaries  ₹ 20.6L        ₹ 45.0L        ₹ 45.0L\n",
       "4           NaN   based on 80 salaries  ₹ 19.1L        ₹ 16.0L        ₹ 16.0L\n",
       "5           NaN   based on 35 salaries  ₹ 18.4L        ₹ 30.0L        ₹ 30.0L\n",
       "6           NaN   based on 27 salaries  ₹ 18.2L         ₹ 7.0L         ₹ 7.0L\n",
       "7           NaN   based on 15 salaries  ₹ 18.2L        ₹ 30.0L        ₹ 30.0L\n",
       "8           NaN   based on 77 salaries  ₹ 17.9L         ₹ 8.0L         ₹ 8.0L\n",
       "9           NaN   based on 12 salaries  ₹ 17.6L        ₹ 40.0L        ₹ 40.0L"
      ]
     },
     "execution_count": 291,
     "metadata": {},
     "output_type": "execute_result"
    }
   ],
   "source": [
    "salary=pd.DataFrame({})\n",
    "salary['Company Name']=company_name[:10]\n",
    "salary['based on salary']=no_of_salaries[:10]\n",
    "salary['Average']=avg_sal[:10]\n",
    "salary['Minimum Salary']=min_sal[0:10]\n",
    "salary['Maximum Salary']=max_sal[:10]\n",
    "salary"
   ]
  },
  {
   "cell_type": "code",
   "execution_count": null,
   "metadata": {},
   "outputs": [],
   "source": []
  }
 ],
 "metadata": {
  "kernelspec": {
   "display_name": "Python 3",
   "language": "python",
   "name": "python3"
  },
  "language_info": {
   "codemirror_mode": {
    "name": "ipython",
    "version": 3
   },
   "file_extension": ".py",
   "mimetype": "text/x-python",
   "name": "python",
   "nbconvert_exporter": "python",
   "pygments_lexer": "ipython3",
   "version": "3.8.5"
  }
 },
 "nbformat": 4,
 "nbformat_minor": 4
}
